{
  "cells": [
    {
      "cell_type": "code",
      "execution_count": null,
      "metadata": {
        "id": "1_-GAoxxGhra",
        "colab": {
          "base_uri": "https://localhost:8080/"
        },
        "outputId": "938880db-da8b-4904-dab2-c290d6fa6591"
      },
      "outputs": [
        {
          "output_type": "stream",
          "name": "stdout",
          "text": [
            "\u001b[2K     \u001b[90m━━━━━━━━━━━━━━━━━━━━━━━━━━━━━━━━━━━━━━━━\u001b[0m \u001b[32m5.2/5.2 MB\u001b[0m \u001b[31m17.5 MB/s\u001b[0m eta \u001b[36m0:00:00\u001b[0m\n",
            "\u001b[2K     \u001b[90m━━━━━━━━━━━━━━━━━━━━━━━━━━━━━━━━━━━━━━━━\u001b[0m \u001b[32m1.7/1.7 MB\u001b[0m \u001b[31m10.6 MB/s\u001b[0m eta \u001b[36m0:00:00\u001b[0m\n",
            "\u001b[2K     \u001b[90m━━━━━━━━━━━━━━━━━━━━━━━━━━━━━━━━━━━━━━━━\u001b[0m \u001b[32m3.8/3.8 MB\u001b[0m \u001b[31m15.5 MB/s\u001b[0m eta \u001b[36m0:00:00\u001b[0m\n",
            "\u001b[2K     \u001b[90m━━━━━━━━━━━━━━━━━━━━━━━━━━━━━━━━━━━━━━━━\u001b[0m \u001b[32m897.5/897.5 kB\u001b[0m \u001b[31m26.4 MB/s\u001b[0m eta \u001b[36m0:00:00\u001b[0m\n",
            "\u001b[?25h"
          ]
        }
      ],
      "source": [
        "!pip install gensim --quiet\n",
        "!pip install tensorflow-datasets --quiet\n",
        "!pip install tensorflow-text==2.15.0 --quiet #15\n",
        "!pip install tensorflow==2.15.0 --quiet #15 13\n",
        "!pip install tf_keras==2.15.0 --quiet\n",
        "!pip install transformers==4.17 --quiet\n",
        "!pip install pydot --quiet\n"
      ]
    },
    {
      "cell_type": "code",
      "execution_count": null,
      "metadata": {
        "id": "fKvgdm4CGmMV"
      },
      "outputs": [],
      "source": [
        "import numpy as np\n",
        "import tensorflow as tf\n",
        "from tensorflow import keras\n",
        "\n",
        "from tensorflow.keras.layers import Embedding, Input, Dense, Lambda\n",
        "from tensorflow.keras.models import Model\n",
        "import tensorflow.keras.backend as K\n",
        "import tensorflow_datasets as tfds\n",
        "import tensorflow_text as tf_text\n",
        "from sklearn.model_selection import train_test_split\n",
        "from sklearn.metrics import classification_report\n",
        "\n",
        "\n",
        "import sklearn as sk\n",
        "import os\n",
        "import nltk\n",
        "from nltk.data import find\n",
        "\n",
        "import matplotlib.pyplot as plt\n",
        "\n",
        "import re\n",
        "\n",
        "\n",
        "import gensim\n",
        "from gensim.models import Word2Vec\n",
        "from gensim.models import KeyedVectors\n",
        "from gensim.test.utils import datapath"
      ]
    },
    {
      "cell_type": "code",
      "execution_count": null,
      "metadata": {
        "id": "dylsAPVWIs5z",
        "colab": {
          "base_uri": "https://localhost:8080/"
        },
        "outputId": "5e071ddb-1620-4353-ca29-c5147d1aa2a1"
      },
      "outputs": [
        {
          "output_type": "stream",
          "name": "stdout",
          "text": [
            "Mounted at /content/drive\n"
          ]
        }
      ],
      "source": [
        "from google.colab import drive\n",
        "import pandas as pd\n",
        "drive.mount('/content/drive')"
      ]
    },
    {
      "cell_type": "markdown",
      "metadata": {
        "id": "YJMy3nNn_6Hk"
      },
      "source": [
        "# Data Prep"
      ]
    },
    {
      "cell_type": "code",
      "execution_count": null,
      "metadata": {
        "id": "_BHJWjaZIzG4"
      },
      "outputs": [],
      "source": [
        "wiki_data = pd.read_csv(\"/content/drive/My Drive/Colab Notebooks/wiki_movie_plots_deduped.csv\")"
      ]
    },
    {
      "cell_type": "code",
      "execution_count": null,
      "metadata": {
        "id": "vCa1TWt4AwLO"
      },
      "outputs": [],
      "source": [
        "\n",
        "import glob\n",
        "import pandas as pd\n",
        "\n",
        "# get data file names\n",
        "path =r'/content/drive/My Drive/Colab Notebooks/movie genres'\n",
        "all_files = glob.glob(path + \"/*.csv\")\n",
        "\n",
        "li = []\n",
        "\n",
        "for filename in all_files:\n",
        "    df = pd.read_csv(filename, index_col=None, header=0)\n",
        "    li.append(df)\n",
        "\n",
        "genre_dataset = pd.concat(li, axis=0, ignore_index=True)\n",
        "genre_dataset.drop_duplicates(subset=\"movie_name\", keep='first', inplace=True)\n"
      ]
    },
    {
      "cell_type": "code",
      "execution_count": null,
      "metadata": {
        "id": "an7cgknuFuvu",
        "colab": {
          "base_uri": "https://localhost:8080/"
        },
        "outputId": "1946f252-627c-412e-9d2d-c70e95cb37d6"
      },
      "outputs": [
        {
          "output_type": "stream",
          "name": "stderr",
          "text": [
            "<ipython-input-6-0bafb3e702b2>:11: SettingWithCopyWarning: \n",
            "A value is trying to be set on a copy of a slice from a DataFrame.\n",
            "Try using .loc[row_indexer,col_indexer] = value instead\n",
            "\n",
            "See the caveats in the documentation: https://pandas.pydata.org/pandas-docs/stable/user_guide/indexing.html#returning-a-view-versus-a-copy\n",
            "  movie_genre_data['genre_encoded'] = label_encoder.fit_transform(movie_genre_data['top_genre'])\n"
          ]
        }
      ],
      "source": [
        "# prompt: join data and frame on frame.movie_name and data.title\n",
        "\n",
        "movie_genre_data = pd.merge(genre_dataset, wiki_data, left_on='movie_name', right_on='Title')\n",
        "movie_genre_data = movie_genre_data.drop('Genre', axis=1)\n",
        "movie_genre_data['top_genre'] = movie_genre_data['genre'].str.split(',').str[0]\n",
        "movie_genre_data = movie_genre_data[~movie_genre_data['top_genre'].isin(['Sport', 'Western', 'Adult', 'Reality-TV'])]\n",
        "\n",
        "from sklearn.preprocessing import LabelEncoder\n",
        "\n",
        "label_encoder = LabelEncoder()\n",
        "movie_genre_data['genre_encoded'] = label_encoder.fit_transform(movie_genre_data['top_genre'])\n",
        "\n",
        "data = movie_genre_data\n"
      ]
    },
    {
      "cell_type": "code",
      "source": [
        "genre_counts = movie_genre_data['top_genre'].value_counts().to_dict()\n",
        "print(genre_counts)"
      ],
      "metadata": {
        "colab": {
          "base_uri": "https://localhost:8080/"
        },
        "id": "X4BwwEhbqZk6",
        "outputId": "0c9d4e8d-b010-4fcb-eac3-0a5bf77694ea"
      },
      "execution_count": null,
      "outputs": [
        {
          "output_type": "stream",
          "name": "stdout",
          "text": [
            "{'Action': 6821, 'Comedy': 4247, 'Drama': 3634, 'Crime': 2423, 'Adventure': 1948, 'Horror': 927, 'Biography': 778, 'Animation': 654, 'Romance': 380, 'Thriller': 216, 'Mystery': 205, 'Fantasy': 175, 'Family': 168, 'Musical': 95, 'Sci-Fi': 61, 'History': 33, 'Film-Noir': 21, 'Music': 21, 'War': 18}\n"
          ]
        }
      ]
    },
    {
      "cell_type": "code",
      "execution_count": null,
      "metadata": {
        "id": "t0dcM_rhI-P5",
        "colab": {
          "base_uri": "https://localhost:8080/"
        },
        "outputId": "78e3617b-7164-49d9-d638-18c767941e49"
      },
      "outputs": [
        {
          "output_type": "stream",
          "name": "stderr",
          "text": [
            "[nltk_data] Downloading package word2vec_sample to /root/nltk_data...\n",
            "[nltk_data]   Unzipping models/word2vec_sample.zip.\n"
          ]
        },
        {
          "output_type": "execute_result",
          "data": {
            "text/plain": [
              "True"
            ]
          },
          "metadata": {},
          "execution_count": 8
        }
      ],
      "source": [
        "nltk.download('word2vec_sample')\n"
      ]
    },
    {
      "cell_type": "code",
      "execution_count": null,
      "metadata": {
        "id": "izKqneB86Esj"
      },
      "outputs": [],
      "source": [
        "word2vec_sample = str(find('models/word2vec_sample/pruned.word2vec.txt'))\n",
        "vec_model = gensim.models.KeyedVectors.load_word2vec_format(word2vec_sample, binary=False)"
      ]
    },
    {
      "cell_type": "code",
      "source": [
        "EMBEDDING_DIM = 300\n",
        "\n",
        "# initialize embedding matrix and word-to-id map:\n",
        "embedding_matrix = np.zeros((len(vec_model) + 1, EMBEDDING_DIM))\n",
        "vocab_dict = {}\n",
        "\n",
        "# build the embedding matrix and the word-to-id map:\n",
        "for i, word in enumerate(vec_model.index_to_key):\n",
        "    embedding_vector = vec_model[word]\n",
        "\n",
        "    if embedding_vector is not None:\n",
        "        # words not found in embedding index will be all-zeros.\n",
        "        embedding_matrix[i] = embedding_vector\n",
        "        vocab_dict[word] = i\n",
        "\n",
        "# we can use the last index at the end of the vocab for unknown tokens\n",
        "vocab_dict['[UNK]'] = len(vocab_dict)"
      ],
      "metadata": {
        "id": "-SZ_F6PPjlbx"
      },
      "execution_count": null,
      "outputs": []
    },
    {
      "cell_type": "code",
      "execution_count": null,
      "metadata": {
        "id": "Rls3ZC6r7pFO"
      },
      "outputs": [],
      "source": [
        "X = data['Plot'].values  # Features (examples)\n",
        "y = data['genre_encoded'].values  # Labels\n",
        "\n",
        "# Split the data into training and testing sets\n",
        "X_train, X_test, y_train, y_test = train_test_split(X, y, test_size=0.2, random_state=42)\n",
        "\n",
        "# Convert the data to TensorFlow datasets\n",
        "train_data = tf.data.Dataset.from_tensor_slices((X_train, y_train))\n",
        "test_data = tf.data.Dataset.from_tensor_slices((X_test, y_test))\n"
      ]
    },
    {
      "cell_type": "code",
      "source": [
        "X_train[0]"
      ],
      "metadata": {
        "colab": {
          "base_uri": "https://localhost:8080/",
          "height": 91
        },
        "id": "sg-k4uFvCnfZ",
        "outputId": "b2f21562-cac1-4a88-dcdc-8d45d80e45f9"
      },
      "execution_count": null,
      "outputs": [
        {
          "output_type": "execute_result",
          "data": {
            "text/plain": [
              "'In the prologue, which is set in medieval times, the audience is introduced to humans with special powers called The Others (Иные, иной; Inyye, Inoy). The Others are divided into two camps, with each Other either allied with the forces of Light or the forces of Darkness, and the prologue recounts a great battle between the two sides. Geser, the Lord of the Light, realized that the two forces would eventually annihilate each other. He stopped the battle and offered a truce to the forces of Darkness, led by Zavulon. To make sure each side honored its side of the agreement, the Light would have a \"Night Watch\" to monitor the forces of Darkness at night, and the Darkness would have a \"Day Watch\" to police the forces of Light during the day. This agreement maintained balance for centuries to come.\\r\\nIn modern-day Moscow, Anton Gorodetsky (Russian: Антон Городецкий) visits a witch named Daria and asks her to cast a spell to return his wife to him, agreeing that she should miscarry her child as part of it. Just as the spell is about to be completed, two figures burst in and restrain Daria, preventing her from completing the spell. When they notice that Anton is able to see them, they realize that he is an Other.\\r\\nTwelve years later, Anton has become a member of the Night Watch and is working with the same team. On Anton\\'s request, Kostya, his neighbor, takes him to see his father, a butcher, to get blood for Anton to drink. The father does this reluctantly, and then tells Kostya that members of the Night Watch only drink blood when they hunt vampires like themselves.\\r\\nA twelve-year-old boy, Yegor, hears \"The Call\", a psychic call by a vampire who intends to feed on him. Anton tracks Yegor, being able to hear the call as he gets closer to Yegor, due to the blood he drank. On the way he sees a blonde woman that terrifies him. Realizing she is under a deadly curse, Anton uses an ultraviolet flashlight to try and cancel it, but it was futile. Two vampires are about to feed on Yegor when Anton arrives, and Anton injures the female and kills her partner while being badly injured. A member of the Day Watch arrives and reveals that the Day Watch is aware of the killing of one of their Dark members.\\r\\nZavulon and an assistant conspire to force the escaped vampire to call Yegor again, in order to entrap Anton and avenge the death of one of their own.\\r\\nAnton is healed by Geser, who notes that he could have solved things more easily by entering into the Gloom—a shadow world only accessible by the Others. After Anton tells him about the woman in the subway, he reveals a legend about a virgin who is cursed so that people and animals around her die or sicken, and that she is accompanied by a \"vortex of damnation\". It is now clear that the virgin, now reborn, will soon activate the vortex, unless the Night Watch finds the one who cursed her. Geser gives Anton an assistant, a stuffed owl named Olga. Anton laughs and refuses, until he sees Geser throw Olga out the window, whereupon she turns into a living owl and flies away. At Anton\\'s apartment, the owl arrives and shape shifts into a woman.\\r\\nAnton asks Kostya for clothes for Olga. Kostya expresses anger at Anton, saying he knows that Anton killed the vampire Dark Other. Further conflict is delayed as Anton and Olga track Yegor to his home, where they must enter the Gloom, as Yegor is there hiding from the female vampire. The Gloom almost consumes Yegor, but a blood sacrifice from Anton satisfies it enough for them to escape. Emerging from the Gloom, Anton sees a photo of Yegor and his mother, who is apparently Anton\\'s ex-wife, thereby revealing that Yegor is his son. The Night Watch members, Tiger and Bear, stay behind to protect Yegor, but as soon as they are distracted, the boy escapes and follows the call of the female vampire. During this time, Zavulon is seen working on a computer prediction in which he is fighting with someone, constantly losing.\\r\\nAnton and Olga arrive at a command and control center set up near the apartment of Svetlana, the cursed woman from the subway train. A vortex capable of immense destruction has appeared over her apartment and bad things have been happening to those near her. Just before Anton goes into speak with her, Svetlana tells her neighbor Gregori that his mother has died, and this sets off a series of events that will shortly cause a nuclear meltdown unless the curse is abated. Anton enters Svetlana\\'s apartment under the guise of needing medical care and talks to her, discovering that she cursed herself on her own, which also means she is an Other. As soon as this is revealed, the curse ends and the vortex disappears. Yegor escapes the grip of the female vampire, but is caught by Zavulon, who appears on the roof. During a duel, Anton attempts to stab Zavulon, but Zavulon sidesteps the swipe just as Yegor runs up. Zavulon stops Anton\\'s momentum, both saving Yegor\\'s life and making it appear as if Anton were attempting to kill his son. Zavulon\\'s assistant reads Anton\\'s personal file aloud. When Yegor finds out that Anton tried to kill him before he was born, and that he has special powers that the prophecy says are held by the Great One, he willingly turns to the Darkness, to Anton\\'s great dismay. An afterword describes that as Yegor has chosen the Dark, he will lead the world into Darkness, but as long as there are those who choose to fight the Darkness all around them, there is hope.'"
            ],
            "application/vnd.google.colaboratory.intrinsic+json": {
              "type": "string"
            }
          },
          "metadata": {},
          "execution_count": 41
        }
      ]
    },
    {
      "cell_type": "code",
      "execution_count": null,
      "metadata": {
        "id": "D8ztzGpf9MDv"
      },
      "outputs": [],
      "source": [
        "train_examples, train_labels = next(iter(train_data.batch(20000)))\n",
        "test_examples, test_labels = next(iter(test_data.batch(5000)))\n"
      ]
    },
    {
      "cell_type": "code",
      "execution_count": null,
      "metadata": {
        "id": "lcgiSo89-7hT"
      },
      "outputs": [],
      "source": [
        "tokenizer = tf_text.WhitespaceTokenizer()\n",
        "train_tokens = tokenizer.tokenize(train_examples)\n",
        "test_tokens = tokenizer.tokenize(test_examples)"
      ]
    },
    {
      "cell_type": "code",
      "execution_count": null,
      "metadata": {
        "id": "pB4hwWmp_AmQ"
      },
      "outputs": [],
      "source": [
        "MAX_SEQUENCE_LENGTH = 100\n",
        "NUM_CLASSES = len(data.top_genre.unique())"
      ]
    },
    {
      "cell_type": "code",
      "source": [
        "NUM_CLASSES"
      ],
      "metadata": {
        "colab": {
          "base_uri": "https://localhost:8080/"
        },
        "id": "r7AknWtxe7XJ",
        "outputId": "06983f4c-afa8-4847-91a2-0854ea847726"
      },
      "execution_count": null,
      "outputs": [
        {
          "output_type": "execute_result",
          "data": {
            "text/plain": [
              "19"
            ]
          },
          "metadata": {},
          "execution_count": 15
        }
      ]
    },
    {
      "cell_type": "code",
      "execution_count": null,
      "metadata": {
        "id": "qFPgm4gf_Pbf"
      },
      "outputs": [],
      "source": [
        "def docs_to_vocab_ids(tokenized_texts_list, max_sequence_length = MAX_SEQUENCE_LENGTH):\n",
        "    \"\"\"\n",
        "    converting a list of strings to a list of lists of word ids\n",
        "    \"\"\"\n",
        "    texts_vocab_ids = []\n",
        "    for i, token_list in enumerate(tokenized_texts_list):\n",
        "\n",
        "        # Get the vocab id for each token in this doc ([UNK] if not in vocab)\n",
        "        vocab_ids = []\n",
        "        for token in list(token_list.numpy()):\n",
        "            decoded = token.decode('utf-8', errors='ignore')\n",
        "            if decoded in vocab_dict:\n",
        "                vocab_ids.append(vocab_dict[decoded])\n",
        "            else:\n",
        "                vocab_ids.append(vocab_dict['[UNK]'])\n",
        "\n",
        "        # Truncate text to max length, add padding up to max length\n",
        "        vocab_ids = vocab_ids[:max_sequence_length]\n",
        "        n_padding = (max_sequence_length - len(vocab_ids))\n",
        "        # For simplicity in this model, we'll just pad with uknown tokens\n",
        "        vocab_ids += [vocab_dict['[UNK]']] * n_padding\n",
        "\n",
        "        # Add this example to the list of converted docs\n",
        "        texts_vocab_ids.append(vocab_ids)\n",
        "\n",
        "        if i % 5000 == 0:\n",
        "            print('Examples processed: ', i)\n",
        "\n",
        "    print('Total examples: ', i)\n",
        "\n",
        "    return np.array(texts_vocab_ids)"
      ]
    },
    {
      "cell_type": "code",
      "execution_count": null,
      "metadata": {
        "id": "jwWAI_XR_Syu",
        "colab": {
          "base_uri": "https://localhost:8080/"
        },
        "outputId": "844213f9-1147-4f14-ec3c-35c88b16e872"
      },
      "outputs": [
        {
          "output_type": "stream",
          "name": "stdout",
          "text": [
            "Examples processed:  0\n",
            "Examples processed:  5000\n",
            "Examples processed:  10000\n",
            "Examples processed:  15000\n",
            "Total examples:  18259\n",
            "Examples processed:  0\n",
            "Total examples:  4564\n"
          ]
        }
      ],
      "source": [
        "train_input = docs_to_vocab_ids(train_tokens)\n",
        "test_input = docs_to_vocab_ids(test_tokens)\n",
        "\n",
        "train_labels = np.array(train_labels)\n",
        "test_labels = np.array(test_labels)"
      ]
    },
    {
      "cell_type": "markdown",
      "metadata": {
        "id": "71YB_rd3AEnH"
      },
      "source": [
        "# Modeling"
      ]
    },
    {
      "cell_type": "markdown",
      "metadata": {
        "id": "NhEidMZ2Vy8n"
      },
      "source": [
        "## Averaging network"
      ]
    },
    {
      "cell_type": "code",
      "execution_count": null,
      "metadata": {
        "id": "0DHmWcj9X3wz"
      },
      "outputs": [],
      "source": [
        "def build_an_model(MAX_SEQUENCE_LENGTH = MAX_SEQUENCE_LENGTH):\n",
        "    an_input_layer = tf.keras.layers.Input(shape=(MAX_SEQUENCE_LENGTH,), dtype='int64')\n",
        "    an_embedding_layer = Embedding(embedding_matrix.shape[0],\n",
        "                               embedding_matrix.shape[1],\n",
        "                               embeddings_initializer=tf.keras.initializers.Constant(embedding_matrix),\n",
        "                               input_length=MAX_SEQUENCE_LENGTH,\n",
        "                               trainable=False)\n",
        "    an_embeddings = an_embedding_layer(an_input_layer)\n",
        "    an_avg_embeddings = tf.keras.layers.Lambda(lambda x: K.mean(x, axis=1), name='averaging')(an_embeddings)\n",
        "    an_classification = tf.keras.layers.Dense(NUM_CLASSES,\n",
        "                                          activation='sigmoid',\n",
        "                                          name='an_classification')(an_avg_embeddings)\n",
        "    an_model = tf.keras.models.Model(inputs=an_input_layer, outputs=[an_classification])\n",
        "    an_model.compile(loss='sparse_categorical_crossentropy',\n",
        "                 optimizer=tf.keras.optimizers.Adam(learning_rate=0.001,\n",
        "                                                    beta_1=0.9,\n",
        "                                                    beta_2=0.999,\n",
        "                                                    epsilon=1e-07,\n",
        "                                                    amsgrad=False,\n",
        "                                                    name='Adam'),\n",
        "                 metrics=['accuracy'])\n",
        "    return an_model\n"
      ]
    },
    {
      "cell_type": "code",
      "execution_count": null,
      "metadata": {
        "colab": {
          "base_uri": "https://localhost:8080/"
        },
        "id": "jRmu0eX1JtRa",
        "outputId": "47b9e260-c918-43bd-d8eb-23eaa4fc942b"
      },
      "outputs": [
        {
          "output_type": "stream",
          "name": "stdout",
          "text": [
            "Epoch 1/20\n",
            "571/571 [==============================] - 3s 3ms/step - loss: 2.4375 - accuracy: 0.2885 - val_loss: 2.1964 - val_accuracy: 0.3012\n",
            "Epoch 2/20\n",
            "571/571 [==============================] - 2s 3ms/step - loss: 2.1566 - accuracy: 0.2982 - val_loss: 2.1046 - val_accuracy: 0.3012\n",
            "Epoch 3/20\n",
            "571/571 [==============================] - 2s 3ms/step - loss: 2.0992 - accuracy: 0.2982 - val_loss: 2.0654 - val_accuracy: 0.3012\n",
            "Epoch 4/20\n",
            "571/571 [==============================] - 2s 3ms/step - loss: 2.0669 - accuracy: 0.2990 - val_loss: 2.0391 - val_accuracy: 0.3027\n",
            "Epoch 5/20\n",
            "571/571 [==============================] - 2s 4ms/step - loss: 2.0437 - accuracy: 0.3029 - val_loss: 2.0196 - val_accuracy: 0.3106\n",
            "Epoch 6/20\n",
            "571/571 [==============================] - 2s 3ms/step - loss: 2.0260 - accuracy: 0.3101 - val_loss: 2.0041 - val_accuracy: 0.3205\n",
            "Epoch 7/20\n",
            "571/571 [==============================] - 2s 3ms/step - loss: 2.0118 - accuracy: 0.3165 - val_loss: 1.9917 - val_accuracy: 0.3244\n",
            "Epoch 8/20\n",
            "571/571 [==============================] - 2s 3ms/step - loss: 1.9998 - accuracy: 0.3210 - val_loss: 1.9819 - val_accuracy: 0.3308\n",
            "Epoch 9/20\n",
            "571/571 [==============================] - 2s 3ms/step - loss: 1.9894 - accuracy: 0.3271 - val_loss: 1.9729 - val_accuracy: 0.3319\n",
            "Epoch 10/20\n",
            "571/571 [==============================] - 3s 5ms/step - loss: 1.9802 - accuracy: 0.3305 - val_loss: 1.9645 - val_accuracy: 0.3441\n",
            "Epoch 11/20\n",
            "571/571 [==============================] - 3s 5ms/step - loss: 1.9720 - accuracy: 0.3371 - val_loss: 1.9582 - val_accuracy: 0.3363\n",
            "Epoch 12/20\n",
            "571/571 [==============================] - 2s 4ms/step - loss: 1.9646 - accuracy: 0.3359 - val_loss: 1.9510 - val_accuracy: 0.3536\n",
            "Epoch 13/20\n",
            "571/571 [==============================] - 2s 3ms/step - loss: 1.9580 - accuracy: 0.3423 - val_loss: 1.9450 - val_accuracy: 0.3487\n",
            "Epoch 14/20\n",
            "571/571 [==============================] - 2s 3ms/step - loss: 1.9515 - accuracy: 0.3430 - val_loss: 1.9396 - val_accuracy: 0.3501\n",
            "Epoch 15/20\n",
            "571/571 [==============================] - 2s 3ms/step - loss: 1.9457 - accuracy: 0.3453 - val_loss: 1.9349 - val_accuracy: 0.3516\n",
            "Epoch 16/20\n",
            "571/571 [==============================] - 2s 3ms/step - loss: 1.9404 - accuracy: 0.3470 - val_loss: 1.9293 - val_accuracy: 0.3540\n",
            "Epoch 17/20\n",
            "571/571 [==============================] - 2s 3ms/step - loss: 1.9349 - accuracy: 0.3496 - val_loss: 1.9248 - val_accuracy: 0.3551\n",
            "Epoch 18/20\n",
            "571/571 [==============================] - 2s 4ms/step - loss: 1.9301 - accuracy: 0.3486 - val_loss: 1.9204 - val_accuracy: 0.3560\n",
            "Epoch 19/20\n",
            "571/571 [==============================] - 3s 5ms/step - loss: 1.9254 - accuracy: 0.3512 - val_loss: 1.9157 - val_accuracy: 0.3562\n",
            "Epoch 20/20\n",
            "571/571 [==============================] - 2s 3ms/step - loss: 1.9210 - accuracy: 0.3535 - val_loss: 1.9111 - val_accuracy: 0.3582\n"
          ]
        }
      ],
      "source": [
        "an_model = build_an_model()\n",
        "an_history = an_model.fit(train_input,\n",
        "                          train_labels,\n",
        "                          validation_data=(test_input, test_labels),\n",
        "                          batch_size=32,\n",
        "                          epochs=20\n",
        "                          )"
      ]
    },
    {
      "cell_type": "code",
      "source": [
        "train_input_100l = docs_to_vocab_ids(train_tokens, 100)\n",
        "test_input_100l = docs_to_vocab_ids(test_tokens, 100)\n",
        "\n",
        "an_model_2 = build_an_model(100)\n",
        "an_history = an_model_2.fit(train_input_100l,\n",
        "                          train_labels,\n",
        "                          validation_data=(test_input_100l, test_labels),\n",
        "                          batch_size=32,\n",
        "                          epochs=20\n",
        "                          )"
      ],
      "metadata": {
        "colab": {
          "base_uri": "https://localhost:8080/"
        },
        "id": "-pNa5RmAwpvp",
        "outputId": "15be1388-845d-4270-d3af-e70abd94250b"
      },
      "execution_count": null,
      "outputs": [
        {
          "output_type": "stream",
          "name": "stdout",
          "text": [
            "Examples processed:  0\n",
            "Examples processed:  5000\n",
            "Examples processed:  10000\n",
            "Examples processed:  15000\n",
            "Total examples:  18259\n",
            "Examples processed:  0\n",
            "Total examples:  4564\n",
            "Epoch 1/20\n",
            "571/571 [==============================] - 2s 3ms/step - loss: 2.3522 - accuracy: 0.2880 - val_loss: 2.1075 - val_accuracy: 0.3012\n",
            "Epoch 2/20\n",
            "571/571 [==============================] - 2s 3ms/step - loss: 2.0880 - accuracy: 0.2982 - val_loss: 2.0483 - val_accuracy: 0.3012\n",
            "Epoch 3/20\n",
            "571/571 [==============================] - 2s 3ms/step - loss: 2.0536 - accuracy: 0.2984 - val_loss: 2.0260 - val_accuracy: 0.3025\n",
            "Epoch 4/20\n",
            "571/571 [==============================] - 2s 3ms/step - loss: 2.0345 - accuracy: 0.3035 - val_loss: 2.0102 - val_accuracy: 0.3117\n",
            "Epoch 5/20\n",
            "571/571 [==============================] - 2s 3ms/step - loss: 2.0193 - accuracy: 0.3123 - val_loss: 1.9976 - val_accuracy: 0.3146\n",
            "Epoch 6/20\n",
            "571/571 [==============================] - 2s 4ms/step - loss: 2.0065 - accuracy: 0.3186 - val_loss: 1.9863 - val_accuracy: 0.3255\n",
            "Epoch 7/20\n",
            "571/571 [==============================] - 3s 5ms/step - loss: 1.9949 - accuracy: 0.3272 - val_loss: 1.9761 - val_accuracy: 0.3338\n",
            "Epoch 8/20\n",
            "571/571 [==============================] - 2s 3ms/step - loss: 1.9846 - accuracy: 0.3331 - val_loss: 1.9682 - val_accuracy: 0.3354\n",
            "Epoch 9/20\n",
            "571/571 [==============================] - 2s 3ms/step - loss: 1.9749 - accuracy: 0.3359 - val_loss: 1.9584 - val_accuracy: 0.3461\n",
            "Epoch 10/20\n",
            "571/571 [==============================] - 2s 3ms/step - loss: 1.9659 - accuracy: 0.3393 - val_loss: 1.9517 - val_accuracy: 0.3494\n",
            "Epoch 11/20\n",
            "571/571 [==============================] - 2s 3ms/step - loss: 1.9580 - accuracy: 0.3432 - val_loss: 1.9440 - val_accuracy: 0.3503\n",
            "Epoch 12/20\n",
            "571/571 [==============================] - 2s 3ms/step - loss: 1.9504 - accuracy: 0.3464 - val_loss: 1.9366 - val_accuracy: 0.3531\n",
            "Epoch 13/20\n",
            "571/571 [==============================] - 2s 3ms/step - loss: 1.9432 - accuracy: 0.3482 - val_loss: 1.9302 - val_accuracy: 0.3533\n",
            "Epoch 14/20\n",
            "571/571 [==============================] - 3s 4ms/step - loss: 1.9364 - accuracy: 0.3498 - val_loss: 1.9249 - val_accuracy: 0.3619\n",
            "Epoch 15/20\n",
            "571/571 [==============================] - 2s 3ms/step - loss: 1.9300 - accuracy: 0.3522 - val_loss: 1.9196 - val_accuracy: 0.3588\n",
            "Epoch 16/20\n",
            "571/571 [==============================] - 2s 3ms/step - loss: 1.9242 - accuracy: 0.3553 - val_loss: 1.9137 - val_accuracy: 0.3608\n",
            "Epoch 17/20\n",
            "571/571 [==============================] - 2s 3ms/step - loss: 1.9186 - accuracy: 0.3548 - val_loss: 1.9094 - val_accuracy: 0.3625\n",
            "Epoch 18/20\n",
            "571/571 [==============================] - 2s 3ms/step - loss: 1.9133 - accuracy: 0.3567 - val_loss: 1.9036 - val_accuracy: 0.3700\n",
            "Epoch 19/20\n",
            "571/571 [==============================] - 2s 3ms/step - loss: 1.9083 - accuracy: 0.3581 - val_loss: 1.8991 - val_accuracy: 0.3709\n",
            "Epoch 20/20\n",
            "571/571 [==============================] - 1s 3ms/step - loss: 1.9033 - accuracy: 0.3603 - val_loss: 1.8955 - val_accuracy: 0.3696\n"
          ]
        }
      ]
    },
    {
      "cell_type": "markdown",
      "metadata": {
        "id": "7MpQfiAUXEu5"
      },
      "source": [
        "## Deep Averaging Network"
      ]
    },
    {
      "cell_type": "code",
      "execution_count": null,
      "metadata": {
        "id": "-FjFk_DQXDJB"
      },
      "outputs": [],
      "source": [
        "def build_dan_model(hidden_layer_dims, dropout_rate, embeddings_trainable=False, MAX_SEQUENCE_LENGTH = MAX_SEQUENCE_LENGTH):\n",
        "    dan_input_layer = tf.keras.layers.Input(shape=(MAX_SEQUENCE_LENGTH,), dtype='int64')\n",
        "    dan_embedding_layer = Embedding(embedding_matrix.shape[0],\n",
        "                                    embedding_matrix.shape[1],\n",
        "                                    embeddings_initializer=tf.keras.initializers.Constant(embedding_matrix),\n",
        "                                    input_length=MAX_SEQUENCE_LENGTH,\n",
        "                                    trainable=embeddings_trainable)\n",
        "    dan_embeddings = dan_embedding_layer(dan_input_layer)\n",
        "    dan_avg_embeddings = tf.keras.layers.Lambda(lambda x: K.mean(x, axis=1),\n",
        "                                                name='averaging')(dan_embeddings)\n",
        "    last_hidden_output = dan_avg_embeddings\n",
        "\n",
        "    for i, h_dim in enumerate(hidden_layer_dims):\n",
        "        last_hidden_output = tf.keras.layers.Dense(h_dim, activation='relu',\n",
        "                                                   name='dan_hidden_%d' % i)(last_hidden_output)\n",
        "        last_hidden_output = tf.keras.layers.Dropout(dropout_rate)(last_hidden_output)\n",
        "\n",
        "    dan_classification = tf.keras.layers.Dense(NUM_CLASSES,\n",
        "                                               activation='sigmoid',\n",
        "                                               name='dan_classification')(last_hidden_output)\n",
        "\n",
        "    dan_model = tf.keras.models.Model(inputs=dan_input_layer, outputs=[dan_classification])\n",
        "    dan_model.compile(loss='sparse_categorical_crossentropy',\n",
        "                      optimizer=tf.keras.optimizers.Adam(learning_rate=0.001,\n",
        "                                                         beta_1=0.9,\n",
        "                                                         beta_2=0.999,\n",
        "                                                         epsilon=1e-07,\n",
        "                                                         amsgrad=False,\n",
        "                                                         name='Adam'),\n",
        "                      metrics=['accuracy'])\n",
        "    return dan_model"
      ]
    },
    {
      "cell_type": "code",
      "execution_count": null,
      "metadata": {
        "id": "tG_3LxUrXhuR"
      },
      "outputs": [],
      "source": [
        "hidden_layer_sizes = [100, 50]\n",
        "dropout_rate = 0.5\n"
      ]
    },
    {
      "cell_type": "code",
      "execution_count": null,
      "metadata": {
        "colab": {
          "base_uri": "https://localhost:8080/"
        },
        "id": "uLsp9AriXxSH",
        "outputId": "de972992-6b97-4be1-c5fe-d1012fa69a94"
      },
      "outputs": [
        {
          "output_type": "stream",
          "name": "stdout",
          "text": [
            "Epoch 1/20\n",
            "571/571 [==============================] - 5s 4ms/step - loss: 2.2074 - accuracy: 0.2750 - val_loss: 2.0316 - val_accuracy: 0.3012\n",
            "Epoch 2/20\n",
            "571/571 [==============================] - 2s 4ms/step - loss: 2.0613 - accuracy: 0.3085 - val_loss: 1.9842 - val_accuracy: 0.3459\n",
            "Epoch 3/20\n",
            "571/571 [==============================] - 3s 5ms/step - loss: 2.0087 - accuracy: 0.3381 - val_loss: 1.9413 - val_accuracy: 0.3619\n",
            "Epoch 4/20\n",
            "571/571 [==============================] - 3s 5ms/step - loss: 1.9722 - accuracy: 0.3516 - val_loss: 1.9129 - val_accuracy: 0.3728\n",
            "Epoch 5/20\n",
            "571/571 [==============================] - 2s 4ms/step - loss: 1.9465 - accuracy: 0.3619 - val_loss: 1.9020 - val_accuracy: 0.3717\n",
            "Epoch 6/20\n",
            "571/571 [==============================] - 2s 4ms/step - loss: 1.9266 - accuracy: 0.3662 - val_loss: 1.8749 - val_accuracy: 0.3766\n",
            "Epoch 7/20\n",
            "571/571 [==============================] - 2s 4ms/step - loss: 1.9132 - accuracy: 0.3681 - val_loss: 1.8606 - val_accuracy: 0.3801\n",
            "Epoch 8/20\n",
            "571/571 [==============================] - 2s 4ms/step - loss: 1.8986 - accuracy: 0.3703 - val_loss: 1.8509 - val_accuracy: 0.3825\n",
            "Epoch 9/20\n",
            "571/571 [==============================] - 3s 5ms/step - loss: 1.8896 - accuracy: 0.3746 - val_loss: 1.8378 - val_accuracy: 0.3855\n",
            "Epoch 10/20\n",
            "571/571 [==============================] - 3s 5ms/step - loss: 1.8737 - accuracy: 0.3785 - val_loss: 1.8300 - val_accuracy: 0.3910\n",
            "Epoch 11/20\n",
            "571/571 [==============================] - 3s 4ms/step - loss: 1.8687 - accuracy: 0.3837 - val_loss: 1.8277 - val_accuracy: 0.3893\n",
            "Epoch 12/20\n",
            "571/571 [==============================] - 3s 5ms/step - loss: 1.8609 - accuracy: 0.3840 - val_loss: 1.8124 - val_accuracy: 0.3921\n",
            "Epoch 13/20\n",
            "571/571 [==============================] - 2s 4ms/step - loss: 1.8511 - accuracy: 0.3883 - val_loss: 1.8067 - val_accuracy: 0.3996\n",
            "Epoch 14/20\n",
            "571/571 [==============================] - 2s 4ms/step - loss: 1.8479 - accuracy: 0.3913 - val_loss: 1.7961 - val_accuracy: 0.4037\n",
            "Epoch 15/20\n",
            "571/571 [==============================] - 3s 5ms/step - loss: 1.8363 - accuracy: 0.3950 - val_loss: 1.7927 - val_accuracy: 0.4059\n",
            "Epoch 16/20\n",
            "571/571 [==============================] - 2s 4ms/step - loss: 1.8323 - accuracy: 0.3942 - val_loss: 1.7869 - val_accuracy: 0.4057\n",
            "Epoch 17/20\n",
            "571/571 [==============================] - 2s 4ms/step - loss: 1.8231 - accuracy: 0.3975 - val_loss: 1.7788 - val_accuracy: 0.4018\n",
            "Epoch 18/20\n",
            "571/571 [==============================] - 2s 4ms/step - loss: 1.8218 - accuracy: 0.3958 - val_loss: 1.7846 - val_accuracy: 0.4015\n",
            "Epoch 19/20\n",
            "571/571 [==============================] - 2s 4ms/step - loss: 1.8194 - accuracy: 0.3969 - val_loss: 1.7662 - val_accuracy: 0.4074\n",
            "Epoch 20/20\n",
            "571/571 [==============================] - 2s 4ms/step - loss: 1.8144 - accuracy: 0.3999 - val_loss: 1.7686 - val_accuracy: 0.4072\n"
          ]
        }
      ],
      "source": [
        "dan_model = build_dan_model(hidden_layer_sizes, dropout_rate)\n",
        "dan_history = dan_model.fit(train_input,\n",
        "                            train_labels,\n",
        "                            validation_data=(test_input, test_labels),\n",
        "                            batch_size=32,\n",
        "                            epochs=20\n",
        "                            )"
      ]
    },
    {
      "cell_type": "code",
      "source": [
        "dan_model_100l = build_dan_model(hidden_layer_sizes, dropout_rate, MAX_SEQUENCE_LENGTH = 100)\n",
        "dan_history_ = dan_model_100l.fit(train_input_100l,\n",
        "                            train_labels,\n",
        "                            validation_data=(test_input_100l, test_labels),\n",
        "                            batch_size=32,\n",
        "                            epochs=20\n",
        "                            )"
      ],
      "metadata": {
        "colab": {
          "base_uri": "https://localhost:8080/"
        },
        "id": "dwcG86LkxtUq",
        "outputId": "ba068a23-2c6f-4971-e6b4-2989f6090224"
      },
      "execution_count": null,
      "outputs": [
        {
          "output_type": "stream",
          "name": "stdout",
          "text": [
            "Epoch 1/20\n",
            "571/571 [==============================] - 4s 5ms/step - loss: 2.1843 - accuracy: 0.2826 - val_loss: 2.0195 - val_accuracy: 0.3012\n",
            "Epoch 2/20\n",
            "571/571 [==============================] - 2s 3ms/step - loss: 2.0505 - accuracy: 0.3171 - val_loss: 1.9740 - val_accuracy: 0.3525\n",
            "Epoch 3/20\n",
            "571/571 [==============================] - 2s 4ms/step - loss: 2.0063 - accuracy: 0.3370 - val_loss: 1.9448 - val_accuracy: 0.3619\n",
            "Epoch 4/20\n",
            "571/571 [==============================] - 2s 3ms/step - loss: 1.9824 - accuracy: 0.3483 - val_loss: 1.9353 - val_accuracy: 0.3643\n",
            "Epoch 5/20\n",
            "571/571 [==============================] - 2s 3ms/step - loss: 1.9608 - accuracy: 0.3546 - val_loss: 1.9181 - val_accuracy: 0.3650\n",
            "Epoch 6/20\n",
            "571/571 [==============================] - 3s 5ms/step - loss: 1.9465 - accuracy: 0.3588 - val_loss: 1.9020 - val_accuracy: 0.3744\n",
            "Epoch 7/20\n",
            "571/571 [==============================] - 3s 5ms/step - loss: 1.9382 - accuracy: 0.3601 - val_loss: 1.8964 - val_accuracy: 0.3709\n",
            "Epoch 8/20\n",
            "571/571 [==============================] - 2s 3ms/step - loss: 1.9317 - accuracy: 0.3619 - val_loss: 1.8778 - val_accuracy: 0.3761\n",
            "Epoch 9/20\n",
            "571/571 [==============================] - 2s 3ms/step - loss: 1.9157 - accuracy: 0.3659 - val_loss: 1.8651 - val_accuracy: 0.3796\n",
            "Epoch 10/20\n",
            "571/571 [==============================] - 2s 3ms/step - loss: 1.9073 - accuracy: 0.3647 - val_loss: 1.8557 - val_accuracy: 0.3809\n",
            "Epoch 11/20\n",
            "571/571 [==============================] - 2s 3ms/step - loss: 1.8967 - accuracy: 0.3693 - val_loss: 1.8430 - val_accuracy: 0.3838\n",
            "Epoch 12/20\n",
            "571/571 [==============================] - 2s 4ms/step - loss: 1.8907 - accuracy: 0.3692 - val_loss: 1.8422 - val_accuracy: 0.3869\n",
            "Epoch 13/20\n",
            "571/571 [==============================] - 4s 7ms/step - loss: 1.8854 - accuracy: 0.3722 - val_loss: 1.8344 - val_accuracy: 0.3871\n",
            "Epoch 14/20\n",
            "571/571 [==============================] - 2s 4ms/step - loss: 1.8768 - accuracy: 0.3744 - val_loss: 1.8276 - val_accuracy: 0.3862\n",
            "Epoch 15/20\n",
            "571/571 [==============================] - 2s 3ms/step - loss: 1.8727 - accuracy: 0.3751 - val_loss: 1.8227 - val_accuracy: 0.3855\n",
            "Epoch 16/20\n",
            "571/571 [==============================] - 2s 4ms/step - loss: 1.8612 - accuracy: 0.3790 - val_loss: 1.8135 - val_accuracy: 0.3869\n",
            "Epoch 17/20\n",
            "571/571 [==============================] - 2s 3ms/step - loss: 1.8659 - accuracy: 0.3765 - val_loss: 1.8076 - val_accuracy: 0.3930\n",
            "Epoch 18/20\n",
            "571/571 [==============================] - 2s 4ms/step - loss: 1.8583 - accuracy: 0.3763 - val_loss: 1.8019 - val_accuracy: 0.3893\n",
            "Epoch 19/20\n",
            "571/571 [==============================] - 3s 5ms/step - loss: 1.8589 - accuracy: 0.3749 - val_loss: 1.8005 - val_accuracy: 0.3963\n",
            "Epoch 20/20\n",
            "571/571 [==============================] - 2s 3ms/step - loss: 1.8506 - accuracy: 0.3816 - val_loss: 1.8021 - val_accuracy: 0.3895\n"
          ]
        }
      ]
    },
    {
      "cell_type": "markdown",
      "metadata": {
        "id": "aHZctKDqZEwy"
      },
      "source": [
        "## CNN Model"
      ]
    },
    {
      "cell_type": "code",
      "execution_count": null,
      "metadata": {
        "id": "AQ_t_ExRZCUF"
      },
      "outputs": [],
      "source": [
        "def build_cnn_model(num_filters, kernel_sizes, dense_layer_dims, dropout_rate, embeddings_trainable=False):\n",
        "    cnn_input_layer = tf.keras.layers.Input(shape=(MAX_SEQUENCE_LENGTH,), dtype='int64')\n",
        "    cnn_embedding_layer = Embedding(embedding_matrix.shape[0],\n",
        "                                    embedding_matrix.shape[1],\n",
        "                                    embeddings_initializer=tf.keras.initializers.Constant(embedding_matrix),\n",
        "                                    input_length=MAX_SEQUENCE_LENGTH,\n",
        "                                    trainable=embeddings_trainable)\n",
        "    cnn_embeddings = cnn_embedding_layer(cnn_input_layer)\n",
        "\n",
        "    conv_layers_for_all_kernel_sizes = []\n",
        "    for kernel_size, filters in zip(kernel_sizes, num_filters):\n",
        "        conv_layer = keras.layers.Conv1D(filters=filters, kernel_size=kernel_size, activation='relu')(cnn_embeddings)\n",
        "        conv_layer = keras.layers.GlobalMaxPooling1D()(conv_layer)\n",
        "        conv_layers_for_all_kernel_sizes.append(conv_layer)\n",
        "\n",
        "    conv_output = keras.layers.concatenate(conv_layers_for_all_kernel_sizes, axis=1)\n",
        "    last_hidden_output = keras.layers.Dropout(rate=dropout_rate)(conv_output)\n",
        "\n",
        "    for dense_layer_dim in dense_layer_dims:\n",
        "        last_hidden_output = keras.layers.Dense(dense_layer_dim, activation='relu')(last_hidden_output)\n",
        "\n",
        "    cnn_prediction = keras.layers.Dense(NUM_CLASSES, activation='sigmoid')(last_hidden_output)\n",
        "\n",
        "    cnn_model = keras.Model(inputs=cnn_input_layer, outputs=cnn_prediction)\n",
        "    cnn_model.compile(optimizer='adam',\n",
        "                      loss='sparse_categorical_crossentropy',  # From information theory notebooks.\n",
        "                      metrics=['accuracy'])\n",
        "    return cnn_model\n"
      ]
    },
    {
      "cell_type": "code",
      "execution_count": null,
      "metadata": {
        "id": "rjGkOab0ZRn9"
      },
      "outputs": [],
      "source": [
        "num_filters = [100, 100, 50, 25]\n",
        "kernel_sizes = [3, 4, 5, 10]\n",
        "dense_layer_dims = [100, 50]\n",
        "dropout_rate = 0.5\n",
        "\n",
        "cnn_model = build_cnn_model(num_filters, kernel_sizes, dense_layer_dims, dropout_rate)"
      ]
    },
    {
      "cell_type": "code",
      "execution_count": null,
      "metadata": {
        "colab": {
          "base_uri": "https://localhost:8080/"
        },
        "id": "vBzats_8ZUsR",
        "outputId": "c389dc47-b139-4c3c-afed-855c319ec048"
      },
      "outputs": [
        {
          "output_type": "stream",
          "name": "stdout",
          "text": [
            "Epoch 1/5\n",
            "571/571 [==============================] - 13s 16ms/step - loss: 1.9952 - accuracy: 0.3415 - val_loss: 1.8416 - val_accuracy: 0.3755\n",
            "Epoch 2/5\n",
            "571/571 [==============================] - 9s 15ms/step - loss: 1.8128 - accuracy: 0.3982 - val_loss: 1.7429 - val_accuracy: 0.4228\n",
            "Epoch 3/5\n",
            "571/571 [==============================] - 8s 15ms/step - loss: 1.6997 - accuracy: 0.4350 - val_loss: 1.6857 - val_accuracy: 0.4370\n",
            "Epoch 4/5\n",
            "571/571 [==============================] - 9s 15ms/step - loss: 1.6068 - accuracy: 0.4665 - val_loss: 1.6819 - val_accuracy: 0.4311\n",
            "Epoch 5/5\n",
            "571/571 [==============================] - 8s 15ms/step - loss: 1.5149 - accuracy: 0.4983 - val_loss: 1.6592 - val_accuracy: 0.4471\n"
          ]
        }
      ],
      "source": [
        "cnn_history = cnn_model.fit(train_input,\n",
        "                            train_labels,\n",
        "                            validation_data=(test_input, test_labels),\n",
        "                            batch_size=32,\n",
        "                            epochs=5\n",
        "                            )"
      ]
    },
    {
      "cell_type": "markdown",
      "metadata": {
        "id": "JX5zxjLvj_BI"
      },
      "source": [
        "## BERT MODEL"
      ]
    },
    {
      "cell_type": "code",
      "execution_count": null,
      "metadata": {
        "colab": {
          "base_uri": "https://localhost:8080/",
          "height": 237,
          "referenced_widgets": [
            "e27681e8ec8d47349654aaab2b637d6c",
            "122f845fa9c04143936ed3410fa3e2d6",
            "5bbb5d03430c4fafa4eb5ed28d9e732a",
            "5b69a37cc2a64e1eae8d4d57ec68562f",
            "6ff31941ab7b4efd8fe3a6faa7a78abc",
            "aa42389a7f72404484b7c3d2d52123e8",
            "91b18f2cc76d49f4b130b4f400d0e661",
            "8f938c7a0b3f462cb943e0f45eafb5fc",
            "47910987be6c42899d8e412923338b27",
            "a375ce8e3f474ed7bcf671c9579ee310",
            "6d218892ac774178885e335067838acc",
            "3aee743768bf400aaa103be0d9e0308e",
            "44674fa228a8436cb72758dae2628c9f",
            "513536e821044309967364a052819247",
            "ae44376b6c9144d1a1c425d632fc82e3",
            "2ac4d184ac594a3eb4527e95d4510cf1",
            "5ea36e1829d048038d086e09fd0d9b23",
            "344cacd0633d4b71b557490e1301185d",
            "49f2a2c4aacb4b7db03ed3437404e03e",
            "85c8e870cc044be29844b4fda9ded194",
            "49963dac02904ba2b05bb46964c2b87f",
            "3afa322487d04a26aff25ca57cfc3a9f",
            "4d6d466ddece4fc9bf1270b32f218aa6",
            "beeeeeca24124d68b681c22e7637d62d",
            "c10377f5e0bd49b2858188c063b8421a",
            "a2d4dec15d364e228522f5d30e028f16",
            "98424fec7ba64a68b278b86f34830e67",
            "98dd8ee4ffa04c7fb057020a2291191b",
            "7c29b1effc98460ca0d24aa408c82583",
            "dde47b4a860c495cb6b3bfd64667877c",
            "ccf035ad51a94aae80eca01c9f3ef220",
            "7930b4a6563840ce88675a4a4b763418",
            "b96d02666c144165902065b4c0187785",
            "90eb7b9f38cd4334bf5e97b80eef0e8e",
            "52e74188f123469daedbf02e84c43e8f",
            "0bd63635ad0947d4845b1f009c8d4126",
            "f0a3262b26464eaf8fd4429f4ed233cf",
            "df03ef8444be4d638c529ee0ed4e8d70",
            "3f032717d244444982cad8eaf9d9fbe9",
            "08fe71611acc494ab893e9132729a149",
            "78f7e8c86f1f44b7813dfad375d73a7e",
            "18da96be66bd4affb7ca2dedeef5efbe",
            "64910d1e33854798805781423ed980e8",
            "50661031d901411c9e4c35b7561dee47"
          ]
        },
        "id": "HF0-zbctosGn",
        "outputId": "ce9ccc2b-5db2-45eb-db4c-303385412034"
      },
      "outputs": [
        {
          "output_type": "display_data",
          "data": {
            "text/plain": [
              "Downloading:   0%|          | 0.00/208k [00:00<?, ?B/s]"
            ],
            "application/vnd.jupyter.widget-view+json": {
              "version_major": 2,
              "version_minor": 0,
              "model_id": "e27681e8ec8d47349654aaab2b637d6c"
            }
          },
          "metadata": {}
        },
        {
          "output_type": "display_data",
          "data": {
            "text/plain": [
              "Downloading:   0%|          | 0.00/49.0 [00:00<?, ?B/s]"
            ],
            "application/vnd.jupyter.widget-view+json": {
              "version_major": 2,
              "version_minor": 0,
              "model_id": "3aee743768bf400aaa103be0d9e0308e"
            }
          },
          "metadata": {}
        },
        {
          "output_type": "display_data",
          "data": {
            "text/plain": [
              "Downloading:   0%|          | 0.00/570 [00:00<?, ?B/s]"
            ],
            "application/vnd.jupyter.widget-view+json": {
              "version_major": 2,
              "version_minor": 0,
              "model_id": "4d6d466ddece4fc9bf1270b32f218aa6"
            }
          },
          "metadata": {}
        },
        {
          "output_type": "display_data",
          "data": {
            "text/plain": [
              "Downloading:   0%|          | 0.00/502M [00:00<?, ?B/s]"
            ],
            "application/vnd.jupyter.widget-view+json": {
              "version_major": 2,
              "version_minor": 0,
              "model_id": "90eb7b9f38cd4334bf5e97b80eef0e8e"
            }
          },
          "metadata": {}
        },
        {
          "output_type": "stream",
          "name": "stderr",
          "text": [
            "Some layers from the model checkpoint at bert-base-cased were not used when initializing TFBertModel: ['mlm___cls', 'nsp___cls']\n",
            "- This IS expected if you are initializing TFBertModel from the checkpoint of a model trained on another task or with another architecture (e.g. initializing a BertForSequenceClassification model from a BertForPreTraining model).\n",
            "- This IS NOT expected if you are initializing TFBertModel from the checkpoint of a model that you expect to be exactly identical (initializing a BertForSequenceClassification model from a BertForSequenceClassification model).\n",
            "All the layers of TFBertModel were initialized from the model checkpoint at bert-base-cased.\n",
            "If your task is similar to the task the model of the checkpoint was trained on, you can already use TFBertModel for predictions without further training.\n"
          ]
        }
      ],
      "source": [
        "from transformers import BertTokenizer, TFBertModel\n",
        "\n",
        "checkpoint = 'bert-base-cased'\n",
        "bert_tokenizer = BertTokenizer.from_pretrained(checkpoint)\n",
        "bert_model = TFBertModel.from_pretrained(checkpoint)"
      ]
    },
    {
      "cell_type": "code",
      "execution_count": null,
      "metadata": {
        "id": "hbu6rfvjsK6P"
      },
      "outputs": [],
      "source": [
        "def create_bert_multiclass_model(checkpoint = checkpoint,\n",
        "                                 num_classes = NUM_CLASSES,\n",
        "                                 hidden_size = 768,\n",
        "                                 dropout=0.3,\n",
        "                                 learning_rate=0.00005):\n",
        "    \"\"\"\n",
        "    Build a simple classification model with BERT. Use the Pooler Output for classification purposes.\n",
        "    \"\"\"\n",
        "    ### YOUR CODE HERE\n",
        "\n",
        "    for layer in bert_model.layers:\n",
        "        layer.trainable = True\n",
        "\n",
        "    input_ids = tf.keras.layers.Input(shape=(None,), dtype=tf.int64, name='input_ids_layer')\n",
        "    token_type_ids = tf.keras.layers.Input(shape=(None,), dtype=tf.int64, name='token_type_ids_layer')\n",
        "    attention_mask = tf.keras.layers.Input(shape=(None,), dtype=tf.int64, name='attention_mask_layer')\n",
        "\n",
        "    bert_inputs = {'input_ids': input_ids,\n",
        "                   'token_type_ids': token_type_ids,\n",
        "                   'attention_mask': attention_mask}\n",
        "\n",
        "    bert_out = bert_model(bert_inputs)\n",
        "\n",
        "    pooler_token = bert_out[1]\n",
        "    #cls_token = bert_out[0][:, 0, :]\n",
        "\n",
        "    hidden = tf.keras.layers.Dense(hidden_size, activation='relu', name='hidden_layer')(pooler_token)\n",
        "\n",
        "\n",
        "    hidden = tf.keras.layers.Dropout(dropout)(hidden)\n",
        "\n",
        "\n",
        "    classification = tf.keras.layers.Dense(num_classes, activation='softmax',name='classification_layer')(hidden)\n",
        "\n",
        "    classification_model = tf.keras.Model(inputs=[input_ids, token_type_ids, attention_mask], outputs=[classification])\n",
        "\n",
        "    classification_model.compile(optimizer=tf.keras.optimizers.Adam(learning_rate=learning_rate),\n",
        "                                 loss=tf.keras.losses.SparseCategoricalCrossentropy(from_logits=False),\n",
        "                                 metrics='accuracy')\n",
        "\n",
        "\n",
        "    ### END YOUR CODE\n",
        "    return classification_model"
      ]
    },
    {
      "cell_type": "code",
      "execution_count": null,
      "metadata": {
        "id": "QlhB85Vtss0m"
      },
      "outputs": [],
      "source": [
        "def create_encodings_and_get_bert_model_with_max_length(max_length):\n",
        "  train_encodings = bert_tokenizer(train_texts_bert, truncation=True, padding=True, max_length=max_length, return_tensors='tf')\n",
        "  valid_encodings = bert_tokenizer(valid_texts_bert, truncation=True, padding=True, max_length=max_length, return_tensors='tf')\n",
        "  test_encodings = bert_tokenizer(test_texts_bert, truncation=True, padding=True, max_length=max_length, return_tensors='tf')\n",
        "  model = create_bert_multiclass_model()\n",
        "\n",
        "  return train_encodings, valid_encodings, test_encodings, model\n"
      ]
    },
    {
      "cell_type": "code",
      "execution_count": null,
      "metadata": {
        "id": "imIX8Z-swTgN"
      },
      "outputs": [],
      "source": [
        "train_texts_bert = X_train.tolist()\n",
        "test_texts_bert = X_test.tolist()\n",
        "valid_texts_bert = train_texts_bert[16000:]\n",
        "valid_labels_bert = y_train[16000:]\n",
        "train_texts_bert = train_texts_bert[:16000]\n",
        "train_labels_bert = y_train[:16000]\n",
        "test_labels_bert = y_test\n",
        "npvalid_labels = np.asarray(valid_labels_bert)"
      ]
    },
    {
      "cell_type": "code",
      "source": [
        "target_names = data[['top_genre', 'genre_encoded']].drop_duplicates().sort_values('genre_encoded')['top_genre'].tolist()\n"
      ],
      "metadata": {
        "id": "gRpBEtIobiCR"
      },
      "execution_count": null,
      "outputs": []
    },
    {
      "cell_type": "code",
      "execution_count": null,
      "metadata": {
        "colab": {
          "base_uri": "https://localhost:8080/"
        },
        "id": "TX1pWBSIcRq4",
        "outputId": "950ec566-0a36-464a-e789-788a9c3030bd"
      },
      "outputs": [
        {
          "output_type": "stream",
          "name": "stdout",
          "text": [
            "Epoch 1/3\n",
            "2000/2000 [==============================] - 409s 187ms/step - loss: 1.1417 - accuracy: 0.7163 - val_loss: 1.3052 - val_accuracy: 0.6580\n",
            "Epoch 2/3\n",
            "2000/2000 [==============================] - 368s 184ms/step - loss: 0.8412 - accuracy: 0.7930 - val_loss: 1.4051 - val_accuracy: 0.6350\n",
            "Epoch 3/3\n",
            "2000/2000 [==============================] - 368s 184ms/step - loss: 0.6541 - accuracy: 0.8409 - val_loss: 1.4886 - val_accuracy: 0.6296\n"
          ]
        }
      ],
      "source": [
        "train_encodings, valid_encodings, test_encodings, pooler_bert_model = create_encodings_and_get_bert_model_with_max_length(100)\n",
        "pooler_bert_model_history = pooler_bert_model.fit([train_encodings.input_ids, train_encodings.token_type_ids, train_encodings.attention_mask],\n",
        "                                                  train_labels,\n",
        "                                                  validation_data=([valid_encodings.input_ids, valid_encodings.token_type_ids, valid_encodings.attention_mask],\n",
        "                                                  npvalid_labels),\n",
        "                                                  batch_size=8,\n",
        "                                                  epochs=3)"
      ]
    },
    {
      "cell_type": "code",
      "source": [
        "from sklearn.metrics import classification_report\n",
        "predictions = pooler_bert_model.predict([test_encodings.input_ids, test_encodings.token_type_ids, test_encodings.attention_mask])\n",
        "\n",
        "#now we need to get the highest probability in the distribution for each prediction\n",
        "#and store that in a tf.Tensor\n",
        "predictions_model1 = tf.argmax(predictions, axis=-1)\n",
        "print(classification_report(test_labels, predictions_model1.numpy(), target_names=target_names))\n"
      ],
      "metadata": {
        "colab": {
          "base_uri": "https://localhost:8080/"
        },
        "id": "VUH09SoUMtgA",
        "outputId": "e0636953-0e34-4747-9430-db825a534eb5"
      },
      "execution_count": null,
      "outputs": [
        {
          "output_type": "stream",
          "name": "stdout",
          "text": [
            "143/143 [==============================] - 35s 210ms/step\n",
            "              precision    recall  f1-score   support\n",
            "\n",
            "      Action       0.71      0.75      0.73      1375\n",
            "   Adventure       0.47      0.30      0.37       408\n",
            "   Animation       0.67      0.46      0.54       113\n",
            "   Biography       0.79      0.50      0.61       155\n",
            "      Comedy       0.65      0.81      0.72       877\n",
            "       Crime       0.71      0.63      0.66       493\n",
            "       Drama       0.61      0.59      0.60       694\n",
            "      Family       0.00      0.00      0.00        32\n",
            "     Fantasy       0.50      0.03      0.05        36\n",
            "   Film-Noir       0.00      0.00      0.00         6\n",
            "     History       0.00      0.00      0.00         7\n",
            "      Horror       0.44      0.75      0.56       182\n",
            "       Music       0.00      0.00      0.00         4\n",
            "     Musical       0.00      0.00      0.00        15\n",
            "     Mystery       0.07      0.10      0.09        39\n",
            "     Romance       0.21      0.15      0.18        73\n",
            "      Sci-Fi       0.21      0.23      0.22        13\n",
            "    Thriller       0.11      0.12      0.12        40\n",
            "         War       0.00      0.00      0.00         3\n",
            "\n",
            "    accuracy                           0.63      4565\n",
            "   macro avg       0.32      0.28      0.29      4565\n",
            "weighted avg       0.62      0.63      0.61      4565\n",
            "\n"
          ]
        },
        {
          "output_type": "stream",
          "name": "stderr",
          "text": [
            "/usr/local/lib/python3.10/dist-packages/sklearn/metrics/_classification.py:1344: UndefinedMetricWarning: Precision and F-score are ill-defined and being set to 0.0 in labels with no predicted samples. Use `zero_division` parameter to control this behavior.\n",
            "  _warn_prf(average, modifier, msg_start, len(result))\n",
            "/usr/local/lib/python3.10/dist-packages/sklearn/metrics/_classification.py:1344: UndefinedMetricWarning: Precision and F-score are ill-defined and being set to 0.0 in labels with no predicted samples. Use `zero_division` parameter to control this behavior.\n",
            "  _warn_prf(average, modifier, msg_start, len(result))\n",
            "/usr/local/lib/python3.10/dist-packages/sklearn/metrics/_classification.py:1344: UndefinedMetricWarning: Precision and F-score are ill-defined and being set to 0.0 in labels with no predicted samples. Use `zero_division` parameter to control this behavior.\n",
            "  _warn_prf(average, modifier, msg_start, len(result))\n"
          ]
        }
      ]
    }
  ],
  "metadata": {
    "accelerator": "GPU",
    "colab": {
      "gpuType": "T4",
      "provenance": []
    },
    "kernelspec": {
      "display_name": "Python 3",
      "name": "python3"
    },
    "language_info": {
      "name": "python"
    },
    "widgets": {
      "application/vnd.jupyter.widget-state+json": {
        "e27681e8ec8d47349654aaab2b637d6c": {
          "model_module": "@jupyter-widgets/controls",
          "model_name": "HBoxModel",
          "model_module_version": "1.5.0",
          "state": {
            "_dom_classes": [],
            "_model_module": "@jupyter-widgets/controls",
            "_model_module_version": "1.5.0",
            "_model_name": "HBoxModel",
            "_view_count": null,
            "_view_module": "@jupyter-widgets/controls",
            "_view_module_version": "1.5.0",
            "_view_name": "HBoxView",
            "box_style": "",
            "children": [
              "IPY_MODEL_122f845fa9c04143936ed3410fa3e2d6",
              "IPY_MODEL_5bbb5d03430c4fafa4eb5ed28d9e732a",
              "IPY_MODEL_5b69a37cc2a64e1eae8d4d57ec68562f"
            ],
            "layout": "IPY_MODEL_6ff31941ab7b4efd8fe3a6faa7a78abc"
          }
        },
        "122f845fa9c04143936ed3410fa3e2d6": {
          "model_module": "@jupyter-widgets/controls",
          "model_name": "HTMLModel",
          "model_module_version": "1.5.0",
          "state": {
            "_dom_classes": [],
            "_model_module": "@jupyter-widgets/controls",
            "_model_module_version": "1.5.0",
            "_model_name": "HTMLModel",
            "_view_count": null,
            "_view_module": "@jupyter-widgets/controls",
            "_view_module_version": "1.5.0",
            "_view_name": "HTMLView",
            "description": "",
            "description_tooltip": null,
            "layout": "IPY_MODEL_aa42389a7f72404484b7c3d2d52123e8",
            "placeholder": "​",
            "style": "IPY_MODEL_91b18f2cc76d49f4b130b4f400d0e661",
            "value": "Downloading: 100%"
          }
        },
        "5bbb5d03430c4fafa4eb5ed28d9e732a": {
          "model_module": "@jupyter-widgets/controls",
          "model_name": "FloatProgressModel",
          "model_module_version": "1.5.0",
          "state": {
            "_dom_classes": [],
            "_model_module": "@jupyter-widgets/controls",
            "_model_module_version": "1.5.0",
            "_model_name": "FloatProgressModel",
            "_view_count": null,
            "_view_module": "@jupyter-widgets/controls",
            "_view_module_version": "1.5.0",
            "_view_name": "ProgressView",
            "bar_style": "success",
            "description": "",
            "description_tooltip": null,
            "layout": "IPY_MODEL_8f938c7a0b3f462cb943e0f45eafb5fc",
            "max": 213450,
            "min": 0,
            "orientation": "horizontal",
            "style": "IPY_MODEL_47910987be6c42899d8e412923338b27",
            "value": 213450
          }
        },
        "5b69a37cc2a64e1eae8d4d57ec68562f": {
          "model_module": "@jupyter-widgets/controls",
          "model_name": "HTMLModel",
          "model_module_version": "1.5.0",
          "state": {
            "_dom_classes": [],
            "_model_module": "@jupyter-widgets/controls",
            "_model_module_version": "1.5.0",
            "_model_name": "HTMLModel",
            "_view_count": null,
            "_view_module": "@jupyter-widgets/controls",
            "_view_module_version": "1.5.0",
            "_view_name": "HTMLView",
            "description": "",
            "description_tooltip": null,
            "layout": "IPY_MODEL_a375ce8e3f474ed7bcf671c9579ee310",
            "placeholder": "​",
            "style": "IPY_MODEL_6d218892ac774178885e335067838acc",
            "value": " 208k/208k [00:00&lt;00:00, 837kB/s]"
          }
        },
        "6ff31941ab7b4efd8fe3a6faa7a78abc": {
          "model_module": "@jupyter-widgets/base",
          "model_name": "LayoutModel",
          "model_module_version": "1.2.0",
          "state": {
            "_model_module": "@jupyter-widgets/base",
            "_model_module_version": "1.2.0",
            "_model_name": "LayoutModel",
            "_view_count": null,
            "_view_module": "@jupyter-widgets/base",
            "_view_module_version": "1.2.0",
            "_view_name": "LayoutView",
            "align_content": null,
            "align_items": null,
            "align_self": null,
            "border": null,
            "bottom": null,
            "display": null,
            "flex": null,
            "flex_flow": null,
            "grid_area": null,
            "grid_auto_columns": null,
            "grid_auto_flow": null,
            "grid_auto_rows": null,
            "grid_column": null,
            "grid_gap": null,
            "grid_row": null,
            "grid_template_areas": null,
            "grid_template_columns": null,
            "grid_template_rows": null,
            "height": null,
            "justify_content": null,
            "justify_items": null,
            "left": null,
            "margin": null,
            "max_height": null,
            "max_width": null,
            "min_height": null,
            "min_width": null,
            "object_fit": null,
            "object_position": null,
            "order": null,
            "overflow": null,
            "overflow_x": null,
            "overflow_y": null,
            "padding": null,
            "right": null,
            "top": null,
            "visibility": null,
            "width": null
          }
        },
        "aa42389a7f72404484b7c3d2d52123e8": {
          "model_module": "@jupyter-widgets/base",
          "model_name": "LayoutModel",
          "model_module_version": "1.2.0",
          "state": {
            "_model_module": "@jupyter-widgets/base",
            "_model_module_version": "1.2.0",
            "_model_name": "LayoutModel",
            "_view_count": null,
            "_view_module": "@jupyter-widgets/base",
            "_view_module_version": "1.2.0",
            "_view_name": "LayoutView",
            "align_content": null,
            "align_items": null,
            "align_self": null,
            "border": null,
            "bottom": null,
            "display": null,
            "flex": null,
            "flex_flow": null,
            "grid_area": null,
            "grid_auto_columns": null,
            "grid_auto_flow": null,
            "grid_auto_rows": null,
            "grid_column": null,
            "grid_gap": null,
            "grid_row": null,
            "grid_template_areas": null,
            "grid_template_columns": null,
            "grid_template_rows": null,
            "height": null,
            "justify_content": null,
            "justify_items": null,
            "left": null,
            "margin": null,
            "max_height": null,
            "max_width": null,
            "min_height": null,
            "min_width": null,
            "object_fit": null,
            "object_position": null,
            "order": null,
            "overflow": null,
            "overflow_x": null,
            "overflow_y": null,
            "padding": null,
            "right": null,
            "top": null,
            "visibility": null,
            "width": null
          }
        },
        "91b18f2cc76d49f4b130b4f400d0e661": {
          "model_module": "@jupyter-widgets/controls",
          "model_name": "DescriptionStyleModel",
          "model_module_version": "1.5.0",
          "state": {
            "_model_module": "@jupyter-widgets/controls",
            "_model_module_version": "1.5.0",
            "_model_name": "DescriptionStyleModel",
            "_view_count": null,
            "_view_module": "@jupyter-widgets/base",
            "_view_module_version": "1.2.0",
            "_view_name": "StyleView",
            "description_width": ""
          }
        },
        "8f938c7a0b3f462cb943e0f45eafb5fc": {
          "model_module": "@jupyter-widgets/base",
          "model_name": "LayoutModel",
          "model_module_version": "1.2.0",
          "state": {
            "_model_module": "@jupyter-widgets/base",
            "_model_module_version": "1.2.0",
            "_model_name": "LayoutModel",
            "_view_count": null,
            "_view_module": "@jupyter-widgets/base",
            "_view_module_version": "1.2.0",
            "_view_name": "LayoutView",
            "align_content": null,
            "align_items": null,
            "align_self": null,
            "border": null,
            "bottom": null,
            "display": null,
            "flex": null,
            "flex_flow": null,
            "grid_area": null,
            "grid_auto_columns": null,
            "grid_auto_flow": null,
            "grid_auto_rows": null,
            "grid_column": null,
            "grid_gap": null,
            "grid_row": null,
            "grid_template_areas": null,
            "grid_template_columns": null,
            "grid_template_rows": null,
            "height": null,
            "justify_content": null,
            "justify_items": null,
            "left": null,
            "margin": null,
            "max_height": null,
            "max_width": null,
            "min_height": null,
            "min_width": null,
            "object_fit": null,
            "object_position": null,
            "order": null,
            "overflow": null,
            "overflow_x": null,
            "overflow_y": null,
            "padding": null,
            "right": null,
            "top": null,
            "visibility": null,
            "width": null
          }
        },
        "47910987be6c42899d8e412923338b27": {
          "model_module": "@jupyter-widgets/controls",
          "model_name": "ProgressStyleModel",
          "model_module_version": "1.5.0",
          "state": {
            "_model_module": "@jupyter-widgets/controls",
            "_model_module_version": "1.5.0",
            "_model_name": "ProgressStyleModel",
            "_view_count": null,
            "_view_module": "@jupyter-widgets/base",
            "_view_module_version": "1.2.0",
            "_view_name": "StyleView",
            "bar_color": null,
            "description_width": ""
          }
        },
        "a375ce8e3f474ed7bcf671c9579ee310": {
          "model_module": "@jupyter-widgets/base",
          "model_name": "LayoutModel",
          "model_module_version": "1.2.0",
          "state": {
            "_model_module": "@jupyter-widgets/base",
            "_model_module_version": "1.2.0",
            "_model_name": "LayoutModel",
            "_view_count": null,
            "_view_module": "@jupyter-widgets/base",
            "_view_module_version": "1.2.0",
            "_view_name": "LayoutView",
            "align_content": null,
            "align_items": null,
            "align_self": null,
            "border": null,
            "bottom": null,
            "display": null,
            "flex": null,
            "flex_flow": null,
            "grid_area": null,
            "grid_auto_columns": null,
            "grid_auto_flow": null,
            "grid_auto_rows": null,
            "grid_column": null,
            "grid_gap": null,
            "grid_row": null,
            "grid_template_areas": null,
            "grid_template_columns": null,
            "grid_template_rows": null,
            "height": null,
            "justify_content": null,
            "justify_items": null,
            "left": null,
            "margin": null,
            "max_height": null,
            "max_width": null,
            "min_height": null,
            "min_width": null,
            "object_fit": null,
            "object_position": null,
            "order": null,
            "overflow": null,
            "overflow_x": null,
            "overflow_y": null,
            "padding": null,
            "right": null,
            "top": null,
            "visibility": null,
            "width": null
          }
        },
        "6d218892ac774178885e335067838acc": {
          "model_module": "@jupyter-widgets/controls",
          "model_name": "DescriptionStyleModel",
          "model_module_version": "1.5.0",
          "state": {
            "_model_module": "@jupyter-widgets/controls",
            "_model_module_version": "1.5.0",
            "_model_name": "DescriptionStyleModel",
            "_view_count": null,
            "_view_module": "@jupyter-widgets/base",
            "_view_module_version": "1.2.0",
            "_view_name": "StyleView",
            "description_width": ""
          }
        },
        "3aee743768bf400aaa103be0d9e0308e": {
          "model_module": "@jupyter-widgets/controls",
          "model_name": "HBoxModel",
          "model_module_version": "1.5.0",
          "state": {
            "_dom_classes": [],
            "_model_module": "@jupyter-widgets/controls",
            "_model_module_version": "1.5.0",
            "_model_name": "HBoxModel",
            "_view_count": null,
            "_view_module": "@jupyter-widgets/controls",
            "_view_module_version": "1.5.0",
            "_view_name": "HBoxView",
            "box_style": "",
            "children": [
              "IPY_MODEL_44674fa228a8436cb72758dae2628c9f",
              "IPY_MODEL_513536e821044309967364a052819247",
              "IPY_MODEL_ae44376b6c9144d1a1c425d632fc82e3"
            ],
            "layout": "IPY_MODEL_2ac4d184ac594a3eb4527e95d4510cf1"
          }
        },
        "44674fa228a8436cb72758dae2628c9f": {
          "model_module": "@jupyter-widgets/controls",
          "model_name": "HTMLModel",
          "model_module_version": "1.5.0",
          "state": {
            "_dom_classes": [],
            "_model_module": "@jupyter-widgets/controls",
            "_model_module_version": "1.5.0",
            "_model_name": "HTMLModel",
            "_view_count": null,
            "_view_module": "@jupyter-widgets/controls",
            "_view_module_version": "1.5.0",
            "_view_name": "HTMLView",
            "description": "",
            "description_tooltip": null,
            "layout": "IPY_MODEL_5ea36e1829d048038d086e09fd0d9b23",
            "placeholder": "​",
            "style": "IPY_MODEL_344cacd0633d4b71b557490e1301185d",
            "value": "Downloading: 100%"
          }
        },
        "513536e821044309967364a052819247": {
          "model_module": "@jupyter-widgets/controls",
          "model_name": "FloatProgressModel",
          "model_module_version": "1.5.0",
          "state": {
            "_dom_classes": [],
            "_model_module": "@jupyter-widgets/controls",
            "_model_module_version": "1.5.0",
            "_model_name": "FloatProgressModel",
            "_view_count": null,
            "_view_module": "@jupyter-widgets/controls",
            "_view_module_version": "1.5.0",
            "_view_name": "ProgressView",
            "bar_style": "success",
            "description": "",
            "description_tooltip": null,
            "layout": "IPY_MODEL_49f2a2c4aacb4b7db03ed3437404e03e",
            "max": 49,
            "min": 0,
            "orientation": "horizontal",
            "style": "IPY_MODEL_85c8e870cc044be29844b4fda9ded194",
            "value": 49
          }
        },
        "ae44376b6c9144d1a1c425d632fc82e3": {
          "model_module": "@jupyter-widgets/controls",
          "model_name": "HTMLModel",
          "model_module_version": "1.5.0",
          "state": {
            "_dom_classes": [],
            "_model_module": "@jupyter-widgets/controls",
            "_model_module_version": "1.5.0",
            "_model_name": "HTMLModel",
            "_view_count": null,
            "_view_module": "@jupyter-widgets/controls",
            "_view_module_version": "1.5.0",
            "_view_name": "HTMLView",
            "description": "",
            "description_tooltip": null,
            "layout": "IPY_MODEL_49963dac02904ba2b05bb46964c2b87f",
            "placeholder": "​",
            "style": "IPY_MODEL_3afa322487d04a26aff25ca57cfc3a9f",
            "value": " 49.0/49.0 [00:00&lt;00:00, 2.57kB/s]"
          }
        },
        "2ac4d184ac594a3eb4527e95d4510cf1": {
          "model_module": "@jupyter-widgets/base",
          "model_name": "LayoutModel",
          "model_module_version": "1.2.0",
          "state": {
            "_model_module": "@jupyter-widgets/base",
            "_model_module_version": "1.2.0",
            "_model_name": "LayoutModel",
            "_view_count": null,
            "_view_module": "@jupyter-widgets/base",
            "_view_module_version": "1.2.0",
            "_view_name": "LayoutView",
            "align_content": null,
            "align_items": null,
            "align_self": null,
            "border": null,
            "bottom": null,
            "display": null,
            "flex": null,
            "flex_flow": null,
            "grid_area": null,
            "grid_auto_columns": null,
            "grid_auto_flow": null,
            "grid_auto_rows": null,
            "grid_column": null,
            "grid_gap": null,
            "grid_row": null,
            "grid_template_areas": null,
            "grid_template_columns": null,
            "grid_template_rows": null,
            "height": null,
            "justify_content": null,
            "justify_items": null,
            "left": null,
            "margin": null,
            "max_height": null,
            "max_width": null,
            "min_height": null,
            "min_width": null,
            "object_fit": null,
            "object_position": null,
            "order": null,
            "overflow": null,
            "overflow_x": null,
            "overflow_y": null,
            "padding": null,
            "right": null,
            "top": null,
            "visibility": null,
            "width": null
          }
        },
        "5ea36e1829d048038d086e09fd0d9b23": {
          "model_module": "@jupyter-widgets/base",
          "model_name": "LayoutModel",
          "model_module_version": "1.2.0",
          "state": {
            "_model_module": "@jupyter-widgets/base",
            "_model_module_version": "1.2.0",
            "_model_name": "LayoutModel",
            "_view_count": null,
            "_view_module": "@jupyter-widgets/base",
            "_view_module_version": "1.2.0",
            "_view_name": "LayoutView",
            "align_content": null,
            "align_items": null,
            "align_self": null,
            "border": null,
            "bottom": null,
            "display": null,
            "flex": null,
            "flex_flow": null,
            "grid_area": null,
            "grid_auto_columns": null,
            "grid_auto_flow": null,
            "grid_auto_rows": null,
            "grid_column": null,
            "grid_gap": null,
            "grid_row": null,
            "grid_template_areas": null,
            "grid_template_columns": null,
            "grid_template_rows": null,
            "height": null,
            "justify_content": null,
            "justify_items": null,
            "left": null,
            "margin": null,
            "max_height": null,
            "max_width": null,
            "min_height": null,
            "min_width": null,
            "object_fit": null,
            "object_position": null,
            "order": null,
            "overflow": null,
            "overflow_x": null,
            "overflow_y": null,
            "padding": null,
            "right": null,
            "top": null,
            "visibility": null,
            "width": null
          }
        },
        "344cacd0633d4b71b557490e1301185d": {
          "model_module": "@jupyter-widgets/controls",
          "model_name": "DescriptionStyleModel",
          "model_module_version": "1.5.0",
          "state": {
            "_model_module": "@jupyter-widgets/controls",
            "_model_module_version": "1.5.0",
            "_model_name": "DescriptionStyleModel",
            "_view_count": null,
            "_view_module": "@jupyter-widgets/base",
            "_view_module_version": "1.2.0",
            "_view_name": "StyleView",
            "description_width": ""
          }
        },
        "49f2a2c4aacb4b7db03ed3437404e03e": {
          "model_module": "@jupyter-widgets/base",
          "model_name": "LayoutModel",
          "model_module_version": "1.2.0",
          "state": {
            "_model_module": "@jupyter-widgets/base",
            "_model_module_version": "1.2.0",
            "_model_name": "LayoutModel",
            "_view_count": null,
            "_view_module": "@jupyter-widgets/base",
            "_view_module_version": "1.2.0",
            "_view_name": "LayoutView",
            "align_content": null,
            "align_items": null,
            "align_self": null,
            "border": null,
            "bottom": null,
            "display": null,
            "flex": null,
            "flex_flow": null,
            "grid_area": null,
            "grid_auto_columns": null,
            "grid_auto_flow": null,
            "grid_auto_rows": null,
            "grid_column": null,
            "grid_gap": null,
            "grid_row": null,
            "grid_template_areas": null,
            "grid_template_columns": null,
            "grid_template_rows": null,
            "height": null,
            "justify_content": null,
            "justify_items": null,
            "left": null,
            "margin": null,
            "max_height": null,
            "max_width": null,
            "min_height": null,
            "min_width": null,
            "object_fit": null,
            "object_position": null,
            "order": null,
            "overflow": null,
            "overflow_x": null,
            "overflow_y": null,
            "padding": null,
            "right": null,
            "top": null,
            "visibility": null,
            "width": null
          }
        },
        "85c8e870cc044be29844b4fda9ded194": {
          "model_module": "@jupyter-widgets/controls",
          "model_name": "ProgressStyleModel",
          "model_module_version": "1.5.0",
          "state": {
            "_model_module": "@jupyter-widgets/controls",
            "_model_module_version": "1.5.0",
            "_model_name": "ProgressStyleModel",
            "_view_count": null,
            "_view_module": "@jupyter-widgets/base",
            "_view_module_version": "1.2.0",
            "_view_name": "StyleView",
            "bar_color": null,
            "description_width": ""
          }
        },
        "49963dac02904ba2b05bb46964c2b87f": {
          "model_module": "@jupyter-widgets/base",
          "model_name": "LayoutModel",
          "model_module_version": "1.2.0",
          "state": {
            "_model_module": "@jupyter-widgets/base",
            "_model_module_version": "1.2.0",
            "_model_name": "LayoutModel",
            "_view_count": null,
            "_view_module": "@jupyter-widgets/base",
            "_view_module_version": "1.2.0",
            "_view_name": "LayoutView",
            "align_content": null,
            "align_items": null,
            "align_self": null,
            "border": null,
            "bottom": null,
            "display": null,
            "flex": null,
            "flex_flow": null,
            "grid_area": null,
            "grid_auto_columns": null,
            "grid_auto_flow": null,
            "grid_auto_rows": null,
            "grid_column": null,
            "grid_gap": null,
            "grid_row": null,
            "grid_template_areas": null,
            "grid_template_columns": null,
            "grid_template_rows": null,
            "height": null,
            "justify_content": null,
            "justify_items": null,
            "left": null,
            "margin": null,
            "max_height": null,
            "max_width": null,
            "min_height": null,
            "min_width": null,
            "object_fit": null,
            "object_position": null,
            "order": null,
            "overflow": null,
            "overflow_x": null,
            "overflow_y": null,
            "padding": null,
            "right": null,
            "top": null,
            "visibility": null,
            "width": null
          }
        },
        "3afa322487d04a26aff25ca57cfc3a9f": {
          "model_module": "@jupyter-widgets/controls",
          "model_name": "DescriptionStyleModel",
          "model_module_version": "1.5.0",
          "state": {
            "_model_module": "@jupyter-widgets/controls",
            "_model_module_version": "1.5.0",
            "_model_name": "DescriptionStyleModel",
            "_view_count": null,
            "_view_module": "@jupyter-widgets/base",
            "_view_module_version": "1.2.0",
            "_view_name": "StyleView",
            "description_width": ""
          }
        },
        "4d6d466ddece4fc9bf1270b32f218aa6": {
          "model_module": "@jupyter-widgets/controls",
          "model_name": "HBoxModel",
          "model_module_version": "1.5.0",
          "state": {
            "_dom_classes": [],
            "_model_module": "@jupyter-widgets/controls",
            "_model_module_version": "1.5.0",
            "_model_name": "HBoxModel",
            "_view_count": null,
            "_view_module": "@jupyter-widgets/controls",
            "_view_module_version": "1.5.0",
            "_view_name": "HBoxView",
            "box_style": "",
            "children": [
              "IPY_MODEL_beeeeeca24124d68b681c22e7637d62d",
              "IPY_MODEL_c10377f5e0bd49b2858188c063b8421a",
              "IPY_MODEL_a2d4dec15d364e228522f5d30e028f16"
            ],
            "layout": "IPY_MODEL_98424fec7ba64a68b278b86f34830e67"
          }
        },
        "beeeeeca24124d68b681c22e7637d62d": {
          "model_module": "@jupyter-widgets/controls",
          "model_name": "HTMLModel",
          "model_module_version": "1.5.0",
          "state": {
            "_dom_classes": [],
            "_model_module": "@jupyter-widgets/controls",
            "_model_module_version": "1.5.0",
            "_model_name": "HTMLModel",
            "_view_count": null,
            "_view_module": "@jupyter-widgets/controls",
            "_view_module_version": "1.5.0",
            "_view_name": "HTMLView",
            "description": "",
            "description_tooltip": null,
            "layout": "IPY_MODEL_98dd8ee4ffa04c7fb057020a2291191b",
            "placeholder": "​",
            "style": "IPY_MODEL_7c29b1effc98460ca0d24aa408c82583",
            "value": "Downloading: 100%"
          }
        },
        "c10377f5e0bd49b2858188c063b8421a": {
          "model_module": "@jupyter-widgets/controls",
          "model_name": "FloatProgressModel",
          "model_module_version": "1.5.0",
          "state": {
            "_dom_classes": [],
            "_model_module": "@jupyter-widgets/controls",
            "_model_module_version": "1.5.0",
            "_model_name": "FloatProgressModel",
            "_view_count": null,
            "_view_module": "@jupyter-widgets/controls",
            "_view_module_version": "1.5.0",
            "_view_name": "ProgressView",
            "bar_style": "success",
            "description": "",
            "description_tooltip": null,
            "layout": "IPY_MODEL_dde47b4a860c495cb6b3bfd64667877c",
            "max": 570,
            "min": 0,
            "orientation": "horizontal",
            "style": "IPY_MODEL_ccf035ad51a94aae80eca01c9f3ef220",
            "value": 570
          }
        },
        "a2d4dec15d364e228522f5d30e028f16": {
          "model_module": "@jupyter-widgets/controls",
          "model_name": "HTMLModel",
          "model_module_version": "1.5.0",
          "state": {
            "_dom_classes": [],
            "_model_module": "@jupyter-widgets/controls",
            "_model_module_version": "1.5.0",
            "_model_name": "HTMLModel",
            "_view_count": null,
            "_view_module": "@jupyter-widgets/controls",
            "_view_module_version": "1.5.0",
            "_view_name": "HTMLView",
            "description": "",
            "description_tooltip": null,
            "layout": "IPY_MODEL_7930b4a6563840ce88675a4a4b763418",
            "placeholder": "​",
            "style": "IPY_MODEL_b96d02666c144165902065b4c0187785",
            "value": " 570/570 [00:00&lt;00:00, 24.3kB/s]"
          }
        },
        "98424fec7ba64a68b278b86f34830e67": {
          "model_module": "@jupyter-widgets/base",
          "model_name": "LayoutModel",
          "model_module_version": "1.2.0",
          "state": {
            "_model_module": "@jupyter-widgets/base",
            "_model_module_version": "1.2.0",
            "_model_name": "LayoutModel",
            "_view_count": null,
            "_view_module": "@jupyter-widgets/base",
            "_view_module_version": "1.2.0",
            "_view_name": "LayoutView",
            "align_content": null,
            "align_items": null,
            "align_self": null,
            "border": null,
            "bottom": null,
            "display": null,
            "flex": null,
            "flex_flow": null,
            "grid_area": null,
            "grid_auto_columns": null,
            "grid_auto_flow": null,
            "grid_auto_rows": null,
            "grid_column": null,
            "grid_gap": null,
            "grid_row": null,
            "grid_template_areas": null,
            "grid_template_columns": null,
            "grid_template_rows": null,
            "height": null,
            "justify_content": null,
            "justify_items": null,
            "left": null,
            "margin": null,
            "max_height": null,
            "max_width": null,
            "min_height": null,
            "min_width": null,
            "object_fit": null,
            "object_position": null,
            "order": null,
            "overflow": null,
            "overflow_x": null,
            "overflow_y": null,
            "padding": null,
            "right": null,
            "top": null,
            "visibility": null,
            "width": null
          }
        },
        "98dd8ee4ffa04c7fb057020a2291191b": {
          "model_module": "@jupyter-widgets/base",
          "model_name": "LayoutModel",
          "model_module_version": "1.2.0",
          "state": {
            "_model_module": "@jupyter-widgets/base",
            "_model_module_version": "1.2.0",
            "_model_name": "LayoutModel",
            "_view_count": null,
            "_view_module": "@jupyter-widgets/base",
            "_view_module_version": "1.2.0",
            "_view_name": "LayoutView",
            "align_content": null,
            "align_items": null,
            "align_self": null,
            "border": null,
            "bottom": null,
            "display": null,
            "flex": null,
            "flex_flow": null,
            "grid_area": null,
            "grid_auto_columns": null,
            "grid_auto_flow": null,
            "grid_auto_rows": null,
            "grid_column": null,
            "grid_gap": null,
            "grid_row": null,
            "grid_template_areas": null,
            "grid_template_columns": null,
            "grid_template_rows": null,
            "height": null,
            "justify_content": null,
            "justify_items": null,
            "left": null,
            "margin": null,
            "max_height": null,
            "max_width": null,
            "min_height": null,
            "min_width": null,
            "object_fit": null,
            "object_position": null,
            "order": null,
            "overflow": null,
            "overflow_x": null,
            "overflow_y": null,
            "padding": null,
            "right": null,
            "top": null,
            "visibility": null,
            "width": null
          }
        },
        "7c29b1effc98460ca0d24aa408c82583": {
          "model_module": "@jupyter-widgets/controls",
          "model_name": "DescriptionStyleModel",
          "model_module_version": "1.5.0",
          "state": {
            "_model_module": "@jupyter-widgets/controls",
            "_model_module_version": "1.5.0",
            "_model_name": "DescriptionStyleModel",
            "_view_count": null,
            "_view_module": "@jupyter-widgets/base",
            "_view_module_version": "1.2.0",
            "_view_name": "StyleView",
            "description_width": ""
          }
        },
        "dde47b4a860c495cb6b3bfd64667877c": {
          "model_module": "@jupyter-widgets/base",
          "model_name": "LayoutModel",
          "model_module_version": "1.2.0",
          "state": {
            "_model_module": "@jupyter-widgets/base",
            "_model_module_version": "1.2.0",
            "_model_name": "LayoutModel",
            "_view_count": null,
            "_view_module": "@jupyter-widgets/base",
            "_view_module_version": "1.2.0",
            "_view_name": "LayoutView",
            "align_content": null,
            "align_items": null,
            "align_self": null,
            "border": null,
            "bottom": null,
            "display": null,
            "flex": null,
            "flex_flow": null,
            "grid_area": null,
            "grid_auto_columns": null,
            "grid_auto_flow": null,
            "grid_auto_rows": null,
            "grid_column": null,
            "grid_gap": null,
            "grid_row": null,
            "grid_template_areas": null,
            "grid_template_columns": null,
            "grid_template_rows": null,
            "height": null,
            "justify_content": null,
            "justify_items": null,
            "left": null,
            "margin": null,
            "max_height": null,
            "max_width": null,
            "min_height": null,
            "min_width": null,
            "object_fit": null,
            "object_position": null,
            "order": null,
            "overflow": null,
            "overflow_x": null,
            "overflow_y": null,
            "padding": null,
            "right": null,
            "top": null,
            "visibility": null,
            "width": null
          }
        },
        "ccf035ad51a94aae80eca01c9f3ef220": {
          "model_module": "@jupyter-widgets/controls",
          "model_name": "ProgressStyleModel",
          "model_module_version": "1.5.0",
          "state": {
            "_model_module": "@jupyter-widgets/controls",
            "_model_module_version": "1.5.0",
            "_model_name": "ProgressStyleModel",
            "_view_count": null,
            "_view_module": "@jupyter-widgets/base",
            "_view_module_version": "1.2.0",
            "_view_name": "StyleView",
            "bar_color": null,
            "description_width": ""
          }
        },
        "7930b4a6563840ce88675a4a4b763418": {
          "model_module": "@jupyter-widgets/base",
          "model_name": "LayoutModel",
          "model_module_version": "1.2.0",
          "state": {
            "_model_module": "@jupyter-widgets/base",
            "_model_module_version": "1.2.0",
            "_model_name": "LayoutModel",
            "_view_count": null,
            "_view_module": "@jupyter-widgets/base",
            "_view_module_version": "1.2.0",
            "_view_name": "LayoutView",
            "align_content": null,
            "align_items": null,
            "align_self": null,
            "border": null,
            "bottom": null,
            "display": null,
            "flex": null,
            "flex_flow": null,
            "grid_area": null,
            "grid_auto_columns": null,
            "grid_auto_flow": null,
            "grid_auto_rows": null,
            "grid_column": null,
            "grid_gap": null,
            "grid_row": null,
            "grid_template_areas": null,
            "grid_template_columns": null,
            "grid_template_rows": null,
            "height": null,
            "justify_content": null,
            "justify_items": null,
            "left": null,
            "margin": null,
            "max_height": null,
            "max_width": null,
            "min_height": null,
            "min_width": null,
            "object_fit": null,
            "object_position": null,
            "order": null,
            "overflow": null,
            "overflow_x": null,
            "overflow_y": null,
            "padding": null,
            "right": null,
            "top": null,
            "visibility": null,
            "width": null
          }
        },
        "b96d02666c144165902065b4c0187785": {
          "model_module": "@jupyter-widgets/controls",
          "model_name": "DescriptionStyleModel",
          "model_module_version": "1.5.0",
          "state": {
            "_model_module": "@jupyter-widgets/controls",
            "_model_module_version": "1.5.0",
            "_model_name": "DescriptionStyleModel",
            "_view_count": null,
            "_view_module": "@jupyter-widgets/base",
            "_view_module_version": "1.2.0",
            "_view_name": "StyleView",
            "description_width": ""
          }
        },
        "90eb7b9f38cd4334bf5e97b80eef0e8e": {
          "model_module": "@jupyter-widgets/controls",
          "model_name": "HBoxModel",
          "model_module_version": "1.5.0",
          "state": {
            "_dom_classes": [],
            "_model_module": "@jupyter-widgets/controls",
            "_model_module_version": "1.5.0",
            "_model_name": "HBoxModel",
            "_view_count": null,
            "_view_module": "@jupyter-widgets/controls",
            "_view_module_version": "1.5.0",
            "_view_name": "HBoxView",
            "box_style": "",
            "children": [
              "IPY_MODEL_52e74188f123469daedbf02e84c43e8f",
              "IPY_MODEL_0bd63635ad0947d4845b1f009c8d4126",
              "IPY_MODEL_f0a3262b26464eaf8fd4429f4ed233cf"
            ],
            "layout": "IPY_MODEL_df03ef8444be4d638c529ee0ed4e8d70"
          }
        },
        "52e74188f123469daedbf02e84c43e8f": {
          "model_module": "@jupyter-widgets/controls",
          "model_name": "HTMLModel",
          "model_module_version": "1.5.0",
          "state": {
            "_dom_classes": [],
            "_model_module": "@jupyter-widgets/controls",
            "_model_module_version": "1.5.0",
            "_model_name": "HTMLModel",
            "_view_count": null,
            "_view_module": "@jupyter-widgets/controls",
            "_view_module_version": "1.5.0",
            "_view_name": "HTMLView",
            "description": "",
            "description_tooltip": null,
            "layout": "IPY_MODEL_3f032717d244444982cad8eaf9d9fbe9",
            "placeholder": "​",
            "style": "IPY_MODEL_08fe71611acc494ab893e9132729a149",
            "value": "Downloading: 100%"
          }
        },
        "0bd63635ad0947d4845b1f009c8d4126": {
          "model_module": "@jupyter-widgets/controls",
          "model_name": "FloatProgressModel",
          "model_module_version": "1.5.0",
          "state": {
            "_dom_classes": [],
            "_model_module": "@jupyter-widgets/controls",
            "_model_module_version": "1.5.0",
            "_model_name": "FloatProgressModel",
            "_view_count": null,
            "_view_module": "@jupyter-widgets/controls",
            "_view_module_version": "1.5.0",
            "_view_name": "ProgressView",
            "bar_style": "success",
            "description": "",
            "description_tooltip": null,
            "layout": "IPY_MODEL_78f7e8c86f1f44b7813dfad375d73a7e",
            "max": 526681800,
            "min": 0,
            "orientation": "horizontal",
            "style": "IPY_MODEL_18da96be66bd4affb7ca2dedeef5efbe",
            "value": 526681800
          }
        },
        "f0a3262b26464eaf8fd4429f4ed233cf": {
          "model_module": "@jupyter-widgets/controls",
          "model_name": "HTMLModel",
          "model_module_version": "1.5.0",
          "state": {
            "_dom_classes": [],
            "_model_module": "@jupyter-widgets/controls",
            "_model_module_version": "1.5.0",
            "_model_name": "HTMLModel",
            "_view_count": null,
            "_view_module": "@jupyter-widgets/controls",
            "_view_module_version": "1.5.0",
            "_view_name": "HTMLView",
            "description": "",
            "description_tooltip": null,
            "layout": "IPY_MODEL_64910d1e33854798805781423ed980e8",
            "placeholder": "​",
            "style": "IPY_MODEL_50661031d901411c9e4c35b7561dee47",
            "value": " 502M/502M [00:12&lt;00:00, 37.0MB/s]"
          }
        },
        "df03ef8444be4d638c529ee0ed4e8d70": {
          "model_module": "@jupyter-widgets/base",
          "model_name": "LayoutModel",
          "model_module_version": "1.2.0",
          "state": {
            "_model_module": "@jupyter-widgets/base",
            "_model_module_version": "1.2.0",
            "_model_name": "LayoutModel",
            "_view_count": null,
            "_view_module": "@jupyter-widgets/base",
            "_view_module_version": "1.2.0",
            "_view_name": "LayoutView",
            "align_content": null,
            "align_items": null,
            "align_self": null,
            "border": null,
            "bottom": null,
            "display": null,
            "flex": null,
            "flex_flow": null,
            "grid_area": null,
            "grid_auto_columns": null,
            "grid_auto_flow": null,
            "grid_auto_rows": null,
            "grid_column": null,
            "grid_gap": null,
            "grid_row": null,
            "grid_template_areas": null,
            "grid_template_columns": null,
            "grid_template_rows": null,
            "height": null,
            "justify_content": null,
            "justify_items": null,
            "left": null,
            "margin": null,
            "max_height": null,
            "max_width": null,
            "min_height": null,
            "min_width": null,
            "object_fit": null,
            "object_position": null,
            "order": null,
            "overflow": null,
            "overflow_x": null,
            "overflow_y": null,
            "padding": null,
            "right": null,
            "top": null,
            "visibility": null,
            "width": null
          }
        },
        "3f032717d244444982cad8eaf9d9fbe9": {
          "model_module": "@jupyter-widgets/base",
          "model_name": "LayoutModel",
          "model_module_version": "1.2.0",
          "state": {
            "_model_module": "@jupyter-widgets/base",
            "_model_module_version": "1.2.0",
            "_model_name": "LayoutModel",
            "_view_count": null,
            "_view_module": "@jupyter-widgets/base",
            "_view_module_version": "1.2.0",
            "_view_name": "LayoutView",
            "align_content": null,
            "align_items": null,
            "align_self": null,
            "border": null,
            "bottom": null,
            "display": null,
            "flex": null,
            "flex_flow": null,
            "grid_area": null,
            "grid_auto_columns": null,
            "grid_auto_flow": null,
            "grid_auto_rows": null,
            "grid_column": null,
            "grid_gap": null,
            "grid_row": null,
            "grid_template_areas": null,
            "grid_template_columns": null,
            "grid_template_rows": null,
            "height": null,
            "justify_content": null,
            "justify_items": null,
            "left": null,
            "margin": null,
            "max_height": null,
            "max_width": null,
            "min_height": null,
            "min_width": null,
            "object_fit": null,
            "object_position": null,
            "order": null,
            "overflow": null,
            "overflow_x": null,
            "overflow_y": null,
            "padding": null,
            "right": null,
            "top": null,
            "visibility": null,
            "width": null
          }
        },
        "08fe71611acc494ab893e9132729a149": {
          "model_module": "@jupyter-widgets/controls",
          "model_name": "DescriptionStyleModel",
          "model_module_version": "1.5.0",
          "state": {
            "_model_module": "@jupyter-widgets/controls",
            "_model_module_version": "1.5.0",
            "_model_name": "DescriptionStyleModel",
            "_view_count": null,
            "_view_module": "@jupyter-widgets/base",
            "_view_module_version": "1.2.0",
            "_view_name": "StyleView",
            "description_width": ""
          }
        },
        "78f7e8c86f1f44b7813dfad375d73a7e": {
          "model_module": "@jupyter-widgets/base",
          "model_name": "LayoutModel",
          "model_module_version": "1.2.0",
          "state": {
            "_model_module": "@jupyter-widgets/base",
            "_model_module_version": "1.2.0",
            "_model_name": "LayoutModel",
            "_view_count": null,
            "_view_module": "@jupyter-widgets/base",
            "_view_module_version": "1.2.0",
            "_view_name": "LayoutView",
            "align_content": null,
            "align_items": null,
            "align_self": null,
            "border": null,
            "bottom": null,
            "display": null,
            "flex": null,
            "flex_flow": null,
            "grid_area": null,
            "grid_auto_columns": null,
            "grid_auto_flow": null,
            "grid_auto_rows": null,
            "grid_column": null,
            "grid_gap": null,
            "grid_row": null,
            "grid_template_areas": null,
            "grid_template_columns": null,
            "grid_template_rows": null,
            "height": null,
            "justify_content": null,
            "justify_items": null,
            "left": null,
            "margin": null,
            "max_height": null,
            "max_width": null,
            "min_height": null,
            "min_width": null,
            "object_fit": null,
            "object_position": null,
            "order": null,
            "overflow": null,
            "overflow_x": null,
            "overflow_y": null,
            "padding": null,
            "right": null,
            "top": null,
            "visibility": null,
            "width": null
          }
        },
        "18da96be66bd4affb7ca2dedeef5efbe": {
          "model_module": "@jupyter-widgets/controls",
          "model_name": "ProgressStyleModel",
          "model_module_version": "1.5.0",
          "state": {
            "_model_module": "@jupyter-widgets/controls",
            "_model_module_version": "1.5.0",
            "_model_name": "ProgressStyleModel",
            "_view_count": null,
            "_view_module": "@jupyter-widgets/base",
            "_view_module_version": "1.2.0",
            "_view_name": "StyleView",
            "bar_color": null,
            "description_width": ""
          }
        },
        "64910d1e33854798805781423ed980e8": {
          "model_module": "@jupyter-widgets/base",
          "model_name": "LayoutModel",
          "model_module_version": "1.2.0",
          "state": {
            "_model_module": "@jupyter-widgets/base",
            "_model_module_version": "1.2.0",
            "_model_name": "LayoutModel",
            "_view_count": null,
            "_view_module": "@jupyter-widgets/base",
            "_view_module_version": "1.2.0",
            "_view_name": "LayoutView",
            "align_content": null,
            "align_items": null,
            "align_self": null,
            "border": null,
            "bottom": null,
            "display": null,
            "flex": null,
            "flex_flow": null,
            "grid_area": null,
            "grid_auto_columns": null,
            "grid_auto_flow": null,
            "grid_auto_rows": null,
            "grid_column": null,
            "grid_gap": null,
            "grid_row": null,
            "grid_template_areas": null,
            "grid_template_columns": null,
            "grid_template_rows": null,
            "height": null,
            "justify_content": null,
            "justify_items": null,
            "left": null,
            "margin": null,
            "max_height": null,
            "max_width": null,
            "min_height": null,
            "min_width": null,
            "object_fit": null,
            "object_position": null,
            "order": null,
            "overflow": null,
            "overflow_x": null,
            "overflow_y": null,
            "padding": null,
            "right": null,
            "top": null,
            "visibility": null,
            "width": null
          }
        },
        "50661031d901411c9e4c35b7561dee47": {
          "model_module": "@jupyter-widgets/controls",
          "model_name": "DescriptionStyleModel",
          "model_module_version": "1.5.0",
          "state": {
            "_model_module": "@jupyter-widgets/controls",
            "_model_module_version": "1.5.0",
            "_model_name": "DescriptionStyleModel",
            "_view_count": null,
            "_view_module": "@jupyter-widgets/base",
            "_view_module_version": "1.2.0",
            "_view_name": "StyleView",
            "description_width": ""
          }
        }
      }
    }
  },
  "nbformat": 4,
  "nbformat_minor": 0
}